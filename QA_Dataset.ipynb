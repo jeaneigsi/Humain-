{
  "nbformat": 4,
  "nbformat_minor": 0,
  "metadata": {
    "colab": {
      "provenance": [],
      "include_colab_link": true
    },
    "kernelspec": {
      "name": "python3",
      "display_name": "Python 3"
    },
    "language_info": {
      "name": "python"
    }
  },
  "cells": [
    {
      "cell_type": "markdown",
      "metadata": {
        "id": "view-in-github",
        "colab_type": "text"
      },
      "source": [
        "<a href=\"https://colab.research.google.com/github/jeaneigsi/Humain-/blob/main/QA_Dataset.ipynb\" target=\"_parent\"><img src=\"https://colab.research.google.com/assets/colab-badge.svg\" alt=\"Open In Colab\"/></a>"
      ]
    },
    {
      "cell_type": "code",
      "source": [
        "!pip install -qU pypdf langchain_community langchain langchain_huggingface\n",
        "!pip install --upgrade --quiet huggingface_hub langchain_core\n",
        "!pip install -q langchain-groq"
      ],
      "metadata": {
        "id": "U2ZbZAh28uEh",
        "outputId": "332b5f8f-0525-434b-a9eb-75addc26787e",
        "colab": {
          "base_uri": "https://localhost:8080/"
        }
      },
      "execution_count": 1,
      "outputs": [
        {
          "output_type": "stream",
          "name": "stdout",
          "text": [
            "\u001b[2K     \u001b[90m━━━━━━━━━━━━━━━━━━━━━━━━━━━━━━━━━━━━━━━━\u001b[0m \u001b[32m290.4/290.4 kB\u001b[0m \u001b[31m5.6 MB/s\u001b[0m eta \u001b[36m0:00:00\u001b[0m\n",
            "\u001b[2K     \u001b[90m━━━━━━━━━━━━━━━━━━━━━━━━━━━━━━━━━━━━━━━━\u001b[0m \u001b[32m2.2/2.2 MB\u001b[0m \u001b[31m36.1 MB/s\u001b[0m eta \u001b[36m0:00:00\u001b[0m\n",
            "\u001b[2K     \u001b[90m━━━━━━━━━━━━━━━━━━━━━━━━━━━━━━━━━━━━━━━━\u001b[0m \u001b[32m974.6/974.6 kB\u001b[0m \u001b[31m34.4 MB/s\u001b[0m eta \u001b[36m0:00:00\u001b[0m\n",
            "\u001b[2K     \u001b[90m━━━━━━━━━━━━━━━━━━━━━━━━━━━━━━━━━━━━━━━━\u001b[0m \u001b[32m315.6/315.6 kB\u001b[0m \u001b[31m14.5 MB/s\u001b[0m eta \u001b[36m0:00:00\u001b[0m\n",
            "\u001b[2K     \u001b[90m━━━━━━━━━━━━━━━━━━━━━━━━━━━━━━━━━━━━━━━━\u001b[0m \u001b[32m125.2/125.2 kB\u001b[0m \u001b[31m9.4 MB/s\u001b[0m eta \u001b[36m0:00:00\u001b[0m\n",
            "\u001b[2K     \u001b[90m━━━━━━━━━━━━━━━━━━━━━━━━━━━━━━━━━━━━━━━━\u001b[0m \u001b[32m227.1/227.1 kB\u001b[0m \u001b[31m18.0 MB/s\u001b[0m eta \u001b[36m0:00:00\u001b[0m\n",
            "\u001b[2K     \u001b[90m━━━━━━━━━━━━━━━━━━━━━━━━━━━━━━━━━━━━━━━━\u001b[0m \u001b[32m49.2/49.2 kB\u001b[0m \u001b[31m2.8 MB/s\u001b[0m eta \u001b[36m0:00:00\u001b[0m\n",
            "\u001b[2K     \u001b[90m━━━━━━━━━━━━━━━━━━━━━━━━━━━━━━━━━━━━━━━━\u001b[0m \u001b[32m145.0/145.0 kB\u001b[0m \u001b[31m6.6 MB/s\u001b[0m eta \u001b[36m0:00:00\u001b[0m\n",
            "\u001b[2K     \u001b[90m━━━━━━━━━━━━━━━━━━━━━━━━━━━━━━━━━━━━━━━━\u001b[0m \u001b[32m21.3/21.3 MB\u001b[0m \u001b[31m49.2 MB/s\u001b[0m eta \u001b[36m0:00:00\u001b[0m\n",
            "\u001b[2K     \u001b[90m━━━━━━━━━━━━━━━━━━━━━━━━━━━━━━━━━━━━━━━━\u001b[0m \u001b[32m402.6/402.6 kB\u001b[0m \u001b[31m8.8 MB/s\u001b[0m eta \u001b[36m0:00:00\u001b[0m\n",
            "\u001b[2K     \u001b[90m━━━━━━━━━━━━━━━━━━━━━━━━━━━━━━━━━━━━━━━━\u001b[0m \u001b[32m103.5/103.5 kB\u001b[0m \u001b[31m3.4 MB/s\u001b[0m eta \u001b[36m0:00:00\u001b[0m\n",
            "\u001b[2K     \u001b[90m━━━━━━━━━━━━━━━━━━━━━━━━━━━━━━━━━━━━━━━━\u001b[0m \u001b[32m75.6/75.6 kB\u001b[0m \u001b[31m8.2 MB/s\u001b[0m eta \u001b[36m0:00:00\u001b[0m\n",
            "\u001b[2K     \u001b[90m━━━━━━━━━━━━━━━━━━━━━━━━━━━━━━━━━━━━━━━━\u001b[0m \u001b[32m77.9/77.9 kB\u001b[0m \u001b[31m9.9 MB/s\u001b[0m eta \u001b[36m0:00:00\u001b[0m\n",
            "\u001b[2K     \u001b[90m━━━━━━━━━━━━━━━━━━━━━━━━━━━━━━━━━━━━━━━━\u001b[0m \u001b[32m58.3/58.3 kB\u001b[0m \u001b[31m7.6 MB/s\u001b[0m eta \u001b[36m0:00:00\u001b[0m\n",
            "\u001b[?25h"
          ]
        }
      ]
    },
    {
      "cell_type": "code",
      "source": [
        "from langchain_core.prompts import ChatPromptTemplate\n",
        "from langchain_groq import ChatGroq\n",
        "\n",
        "chat = ChatGroq(temperature=0, groq_api_key=\"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\", model_name=\"llama3-70b-8192\")\n",
        "# system = \"Tu es un expert en analyse et interpretation de texte. Reponds aux requetes des utilisateurs dans la langue francais, sans poser des questions.\"\n",
        "# human = \"{text}\"\n",
        "# prompt = ChatPromptTemplate.from_messages([(\"system\", system), (\"human\", human)])\n",
        "\n",
        "# chain = prompt | chat\n",
        "# chain.invoke({\"text\": \"Explain the importance of low latency LLMs.\"})\n"
      ],
      "metadata": {
        "id": "08s8smO6EHBu"
      },
      "execution_count": 2,
      "outputs": []
    },
    {
      "cell_type": "code",
      "source": [
        "from langchain.chains import LLMChain\n",
        "from langchain_core.prompts import PromptTemplate\n",
        "from langchain_huggingface import HuggingFaceEndpoint\n",
        "\n",
        "\n",
        "\n",
        "import os\n",
        "\n",
        "# get a token: https://huggingface.co/docs/api-inference/quicktour#get-your-api-token\n",
        "\n",
        "from getpass import getpass\n",
        "\n",
        "HUGGINGFACEHUB_API_TOKEN = getpass()\n",
        "os.environ[\"HUGGINGFACEHUB_API_TOKEN\"] = HUGGINGFACEHUB_API_TOKEN\n"
      ],
      "metadata": {
        "colab": {
          "base_uri": "https://localhost:8080/"
        },
        "id": "_MtwhGvmHfKh",
        "outputId": "3aeb4f5f-90ee-4649-e196-aa859182bcb5"
      },
      "execution_count": null,
      "outputs": [
        {
          "name": "stdout",
          "output_type": "stream",
          "text": [
            "··········\n"
          ]
        }
      ]
    },
    {
      "cell_type": "code",
      "source": [
        "import os\n",
        "from getpass import getpass\n",
        "\n",
        "OPENAI_API_KEY = getpass()\n",
        "os.environ[\"OPENAI_API_KEY\"] = OPENAI_API_KEY"
      ],
      "metadata": {
        "colab": {
          "base_uri": "https://localhost:8080/"
        },
        "id": "jVrusNstDRjv",
        "outputId": "4225c4eb-acf8-4fb5-df29-70b2d4448ac7"
      },
      "execution_count": null,
      "outputs": [
        {
          "name": "stdout",
          "output_type": "stream",
          "text": [
            "··········\n"
          ]
        }
      ]
    },
    {
      "cell_type": "code",
      "source": [
        "!pip install langchain langchain_core langchain_openai langchain_community langchain_huggingface"
      ],
      "metadata": {
        "id": "QlvUalKUAklq"
      },
      "execution_count": null,
      "outputs": []
    },
    {
      "cell_type": "code",
      "source": [
        "from typing import List\n",
        "\n",
        "from langchain.output_parsers import PydanticOutputParser\n",
        "from langchain_core.prompts import PromptTemplate\n",
        "from langchain_core.pydantic_v1 import BaseModel, Field, validator\n",
        "from langchain_openai import ChatOpenAI"
      ],
      "metadata": {
        "id": "ELvSVukhGKDe"
      },
      "execution_count": 8,
      "outputs": []
    },
    {
      "cell_type": "code",
      "source": [
        "model = ChatOpenAI(temperature=0)"
      ],
      "metadata": {
        "id": "DDSsPAhC_Cg3"
      },
      "execution_count": null,
      "outputs": []
    },
    {
      "cell_type": "code",
      "source": [
        "!pip install -qU pypdf"
      ],
      "metadata": {
        "id": "BPKtD1ZZHWoZ"
      },
      "execution_count": 4,
      "outputs": []
    },
    {
      "cell_type": "code",
      "source": [
        "from langchain_community.document_loaders import PyPDFLoader\n",
        "\n",
        "file_path = \"/content/Burkina-Code-travail-2008.pdf\"\n",
        "loader = PyPDFLoader(file_path)\n",
        "\n",
        "docs = loader.load()\n",
        "\n",
        "print(len(docs))\n",
        "\n",
        "print(docs[0].metadata)"
      ],
      "metadata": {
        "colab": {
          "base_uri": "https://localhost:8080/"
        },
        "id": "x0gKLC4394Dm",
        "outputId": "a4944711-1429-41ff-bef5-8b56fd3efbab"
      },
      "execution_count": 5,
      "outputs": [
        {
          "output_type": "stream",
          "name": "stdout",
          "text": [
            "116\n",
            "{'source': '/content/Burkina-Code-travail-2008.pdf', 'page': 0}\n"
          ]
        }
      ]
    },
    {
      "cell_type": "code",
      "source": [
        "print(docs[3].page_content)"
      ],
      "metadata": {
        "id": "YnC00fxCJ6h1"
      },
      "execution_count": null,
      "outputs": []
    },
    {
      "cell_type": "code",
      "source": [
        "docs[3]"
      ],
      "metadata": {
        "colab": {
          "base_uri": "https://localhost:8080/"
        },
        "id": "8xe3cRBQydq9",
        "outputId": "71bb5cc9-a93c-402d-a7c0-6d836944ab89"
      },
      "execution_count": null,
      "outputs": [
        {
          "output_type": "execute_result",
          "data": {
            "text/plain": [
              "Document(page_content='Page 4 sur 116MINISTERE DU TRAVAIL ET  DE LA SECURITE \\nSOCIALE /BURKINA FASO 4\\n \\nd’une sanction et pour lequel ledit individu ne s’est pas offert de plein \\ngré. \\n \\nNul ne peut y recourir sous aucune forme, notamment en tant que : \\n \\n1. mesure de coercition, d’éducation politique, de sanction à l’égard de personnes qui ont exprimé  leurs opinions politiques ; \\n  \\n2. méthode de mobilisation et d’utilis ation de la main-d’œuvre à des \\nfins politiques; \\n \\n3. mesure de discipline au travail ; \\n \\n4. mesure de discrimination sociale, raciale, nationale ou religieuse ; \\n \\n5. punition pour avoir participé à des grèves. \\n \\nArticle 6  : N’est pas considéré comme travail forcé ou obligatoire au sens \\nde la présente loi : \\n \\n1. tout travail ou service exigé d’un individu en vertu des lois nationales sur le service militaire et affecté à des travaux à caractère militaire ; \\n \\n2. tout travail ou service découlant des obligations civiques normales des citoyens ; \\n \\n3. tout travail ou service exigé d’un individu résultant d’une condamnation judiciaire, à condition que ce travail soit exécuté sous la surveillance et le contrôle des autorités publiques  et que  \\n     ledit individu ne soit ni co ncédé, ni mis à la disposition de  \\n     particuliers, compagnies ou personnes  morales privées à                                     \\n     l’exception des associations d’utilité publique ; \\n \\n4. tout travail ou service exigé en cas de circonstance mettant en \\ndanger ou risquant de mettre en da nger la vie ou les conditions \\nnormales d’existence de tout ou partie de la communauté et en cas \\nde force majeure.  \\n ', metadata={'source': '/content/Burkina-Code-travail-2008.pdf', 'page': 3})"
            ]
          },
          "metadata": {},
          "execution_count": 60
        }
      ]
    },
    {
      "cell_type": "code",
      "source": [
        "docs[3].page_content"
      ],
      "metadata": {
        "colab": {
          "base_uri": "https://localhost:8080/",
          "height": 399
        },
        "id": "DzNX718XqKVm",
        "outputId": "a627763f-7e9c-4f1b-87ac-0d44536cdcde"
      },
      "execution_count": null,
      "outputs": [
        {
          "output_type": "execute_result",
          "data": {
            "text/plain": [
              "'Page 4 sur 116MINISTERE DU TRAVAIL ET  DE LA SECURITE \\nSOCIALE /BURKINA FASO 4\\n \\nd’une sanction et pour lequel ledit individu ne s’est pas offert de plein \\ngré. \\n \\nNul ne peut y recourir sous aucune forme, notamment en tant que : \\n \\n1. mesure de coercition, d’éducation politique, de sanction à l’égard de personnes qui ont exprimé  leurs opinions politiques ; \\n  \\n2. méthode de mobilisation et d’utilis ation de la main-d’œuvre à des \\nfins politiques; \\n \\n3. mesure de discipline au travail ; \\n \\n4. mesure de discrimination sociale, raciale, nationale ou religieuse ; \\n \\n5. punition pour avoir participé à des grèves. \\n \\nArticle 6  : N’est pas considéré comme travail forcé ou obligatoire au sens \\nde la présente loi : \\n \\n1. tout travail ou service exigé d’un individu en vertu des lois nationales sur le service militaire et affecté à des travaux à caractère militaire ; \\n \\n2. tout travail ou service découlant des obligations civiques normales des citoyens ; \\n \\n3. tout travail ou service exigé d’un individu résultant d’une condamnation judiciaire, à condition que ce travail soit exécuté sous la surveillance et le contrôle des autorités publiques  et que  \\n     ledit individu ne soit ni co ncédé, ni mis à la disposition de  \\n     particuliers, compagnies ou personnes  morales privées à                                     \\n     l’exception des associations d’utilité publique ; \\n \\n4. tout travail ou service exigé en cas de circonstance mettant en \\ndanger ou risquant de mettre en da nger la vie ou les conditions \\nnormales d’existence de tout ou partie de la communauté et en cas \\nde force majeure.  \\n '"
            ],
            "application/vnd.google.colaboratory.intrinsic+json": {
              "type": "string"
            }
          },
          "metadata": {},
          "execution_count": 35
        }
      ]
    },
    {
      "cell_type": "code",
      "source": [
        "# Here's another example, but with a compound typed field.\n",
        "class Actor(BaseModel):\n",
        "    name: str = Field(description=\"Donne toutes les idées du texte à analyser et la page\")\n",
        "    Questions: List[str] = Field(description=\"Une liste de questions de comprehension sur le text à analyser, \")\n",
        "    Answers: List[str] = Field(description=\"Une liste de reponses detaillé, aux questions,  qui permet meme a un novice et expert de comprendre\")\n",
        "\n",
        "\n",
        "actor_query = \"text a analyser : \"+docs[3].page_content\n",
        "\n",
        "parser = PydanticOutputParser(pydantic_object=Actor)\n",
        "\n",
        "prompt = PromptTemplate(\n",
        "    template=\"Tu es un expert a analyse et interpretention de tous les textes. N'hesitez a être curieux pour comprendre en profondeurs les idées du texte à analyser. Répondre à la requête de l'utilisateur en français.\\n{format_instructions}\\n{query}\\n\",\n",
        "    input_variables=[\"query\"],\n",
        "    partial_variables={\"format_instructions\": parser.get_format_instructions()},\n",
        ")\n",
        "\n",
        "chain = prompt | chat | parser\n",
        "\n",
        "chain.invoke({\"query\": actor_query})"
      ],
      "metadata": {
        "colab": {
          "base_uri": "https://localhost:8080/"
        },
        "id": "INY8AWjX_HWd",
        "outputId": "438af13a-f861-414e-8535-c9ac4d55f749"
      },
      "execution_count": 9,
      "outputs": [
        {
          "output_type": "execute_result",
          "data": {
            "text/plain": [
              "Actor(name='Loi sur le travail et la sécurité sociale au Burkina Faso', Questions=['Quels sont les cas où le travail forcé ou obligatoire est interdit ?', 'Quels sont les travaux ou services qui ne sont pas considérés comme travail forcé ou obligatoire ?', \"Quels sont les cas où le travail ou service est exigé d'un individu en vertu des lois nationales sur le service militaire ?\"], Answers=[\"Le travail forcé ou obligatoire est interdit comme mesure de coercition, d'éducation politique, de sanction à l'égard de personnes qui ont exprimé leurs opinions politiques, comme méthode de mobilisation et d'utilisation de la main-d'œuvre à des fins politiques, comme mesure de discipline au travail, comme mesure de discrimination sociale, raciale, nationale ou religieuse, ou comme punition pour avoir participé à des grèves.\", \"Les travaux ou services qui ne sont pas considérés comme travail forcé ou obligatoire sont ceux exigés d'un individu en vertu des lois nationales sur le service militaire et affectés à des travaux à caractère militaire, ceux découlant des obligations civiques normales des citoyens, ceux résultant d'une condamnation judiciaire, ou ceux exigés en cas de circonstance mettant en danger ou risquant de mettre en danger la vie ou les conditions normales d'existence de tout ou partie de la communauté et en cas de force majeure.\", \"Les travaux ou services exigés d'un individu en vertu des lois nationales sur le service militaire et affectés à des travaux à caractère militaire ne sont pas considérés comme travail forcé ou obligatoire.\"])"
            ]
          },
          "metadata": {},
          "execution_count": 9
        }
      ]
    },
    {
      "cell_type": "code",
      "source": [
        "actor_query = docs[3].page_content\n"
      ],
      "metadata": {
        "id": "WXtn8QkK0VC6"
      },
      "execution_count": null,
      "outputs": []
    },
    {
      "cell_type": "code",
      "source": [
        "output=chain.invoke({\"query\": actor_query})\n",
        "Questions=output.Questions\n",
        "Reponses=output.Answers\n",
        "topic=output.name"
      ],
      "metadata": {
        "id": "tu1ojp3SpDEI"
      },
      "execution_count": null,
      "outputs": []
    },
    {
      "cell_type": "code",
      "source": [
        "total=[doc.page_content for doc in docs]"
      ],
      "metadata": {
        "id": "_4c6FtHr0t8Q"
      },
      "execution_count": null,
      "outputs": []
    },
    {
      "cell_type": "code",
      "source": [
        "docs=docs[0:10]"
      ],
      "metadata": {
        "id": "RfZMW5U91VuL"
      },
      "execution_count": null,
      "outputs": []
    },
    {
      "cell_type": "code",
      "source": [
        "len(docs)"
      ],
      "metadata": {
        "colab": {
          "base_uri": "https://localhost:8080/"
        },
        "id": "1YZTS_eV5U7f",
        "outputId": "0c539837-85ce-4b86-b41b-545bb6323dc8"
      },
      "execution_count": 10,
      "outputs": [
        {
          "output_type": "execute_result",
          "data": {
            "text/plain": [
              "116"
            ]
          },
          "metadata": {},
          "execution_count": 10
        }
      ]
    },
    {
      "cell_type": "code",
      "source": [
        "# Initialiser les listes pour stocker les résultats\n",
        "all_questions = []\n",
        "all_responses = []\n",
        "all_topics = []"
      ],
      "metadata": {
        "id": "TfU_ZCYz4jwk"
      },
      "execution_count": 12,
      "outputs": []
    },
    {
      "cell_type": "code",
      "source": [
        "import time\n",
        "# Itérer sur chaque élément dans docs\n",
        "for doc in docs:\n",
        "    actor_query = \"Le text a analyser est : \"+doc.page_content\n",
        "\n",
        "    # Invoker la c  haîne avec la requête de l'acteur\n",
        "    output = chain.invoke({\"query\": actor_query})\n",
        "\n",
        "    # Extraire les questions, réponses et le sujet\n",
        "    Questions = output.Questions\n",
        "    Reponses = output.Answers\n",
        "    topic = output.name\n",
        "\n",
        "    # Ajouter les résultats aux listes\n",
        "    all_questions.extend(Questions)\n",
        "    all_responses.extend(Reponses)\n",
        "    all_topics.extend([topic] * len(Questions))\n",
        "\n",
        "    Questions = \"\"\n",
        "    Reponses =\"\"\n",
        "    topic = \"\"\n",
        "\n",
        "    # Attendre 1 minute avant la prochaine requête\n",
        "    time.sleep(10)"
      ],
      "metadata": {
        "id": "T_RCTN5b4tvb"
      },
      "execution_count": 13,
      "outputs": []
    },
    {
      "cell_type": "code",
      "source": [
        "del all_responses[-1]"
      ],
      "metadata": {
        "id": "fM9NVjz4UmVs"
      },
      "execution_count": 21,
      "outputs": []
    },
    {
      "cell_type": "code",
      "source": [
        "len(all_responses)"
      ],
      "metadata": {
        "colab": {
          "base_uri": "https://localhost:8080/"
        },
        "id": "a2DSZilXU1Y7",
        "outputId": "b656d27f-0214-4cda-d220-b94c7245db82"
      },
      "execution_count": 22,
      "outputs": [
        {
          "output_type": "execute_result",
          "data": {
            "text/plain": [
              "465"
            ]
          },
          "metadata": {},
          "execution_count": 22
        }
      ]
    },
    {
      "cell_type": "code",
      "source": [
        "all_questions[0]"
      ],
      "metadata": {
        "id": "IkP_29YJUNuD",
        "outputId": "83c42a11-e2af-475c-aeb0-478b4bc47fc6",
        "colab": {
          "base_uri": "https://localhost:8080/",
          "height": 36
        }
      },
      "execution_count": 15,
      "outputs": [
        {
          "output_type": "execute_result",
          "data": {
            "text/plain": [
              "'Quel est le ministère responsable du travail et de la sécurité sociale au Burkina Faso?'"
            ],
            "application/vnd.google.colaboratory.intrinsic+json": {
              "type": "string"
            }
          },
          "metadata": {},
          "execution_count": 15
        }
      ]
    },
    {
      "cell_type": "code",
      "source": [
        "# Créer un DataFrame avec toutes les questions, réponses et les sujets\n",
        "import pandas as pd\n",
        "df = pd.DataFrame({\n",
        "    'question': all_questions,\n",
        "    'response': all_responses,\n",
        "    'topic': all_topics\n",
        "})\n",
        "\n",
        "# Sauvegarder le DataFrame en CSV\n",
        "df.to_csv('questions_oreponses.csv', index=False)"
      ],
      "metadata": {
        "id": "AikKN8ed40j6"
      },
      "execution_count": 23,
      "outputs": []
    },
    {
      "cell_type": "code",
      "source": [
        "!pip install argilla -U\n"
      ],
      "metadata": {
        "id": "J1lBmx6VXmE7"
      },
      "execution_count": null,
      "outputs": []
    },
    {
      "cell_type": "code",
      "source": [
        "ARGILLA_API_URL=\"https://jeanflop-arguilla.hf.space/\"\n",
        "ARGILLA_API_KEY=\"fRht76YKPDL4VUPa1ikwVYh5lkISm0esZ2IOXeJzdxseOqnHlmc5DC5LlhcPEw0V5Y4wEeTyRiXc9vC78btRsIZBlvRuUEAXSWxT5MMgHgs\""
      ],
      "metadata": {
        "id": "zEk_BPS7XxwN"
      },
      "execution_count": 27,
      "outputs": []
    },
    {
      "cell_type": "code",
      "source": [
        "import argilla as rg\n",
        "\n",
        "rg.init(\n",
        "    api_url=ARGILLA_API_URL,\n",
        "    api_key=ARGILLA_API_KEY,\n",
        "    # extra_headers={\"Authorization\": f\"Bearer {\"HF_TOKEN\"}\"}\n",
        ")\n"
      ],
      "metadata": {
        "id": "byzrrBAuYrIH"
      },
      "execution_count": null,
      "outputs": []
    },
    {
      "cell_type": "code",
      "source": [
        "# Copyright 2024 Drengskapur\n",
        "#\n",
        "# Licensed under the Apache License, Version 2.0 (the \"License\");\n",
        "# you may not use this file except in compliance with the License.\n",
        "# You may obtain a copy of the License at\n",
        "#\n",
        "#     http://www.apache.org/licenses/LICENSE-2.0\n",
        "#\n",
        "# Unless required by applicable law or agreed to in writing, software\n",
        "# distributed under the License is distributed on an \"AS IS\" BASIS,\n",
        "# WITHOUT WARRANTIES OR CONDITIONS OF ANY KIND, either express or implied.\n",
        "# See the License for the specific language governing permissions and\n",
        "# limitations under the License.\n",
        "#\n",
        "# @title {display-mode:\"form\"}\n",
        "# @markdown <br/><br/><center><img src=\"https://cdn.jsdelivr.net/gh/drengskapur/docker-in-colab/assets/docker.svg\" height=\"150\"><img src=\"https://cdn.jsdelivr.net/gh/drengskapur/docker-in-colab/assets/colab.svg\" height=\"150\"></center><br/>\n",
        "# @markdown <center><h1>Docker in Colab</h1></center><center>github.com/drengskapur/docker-in-colab<br/><br/><br/><b>udocker(\"run hello-world\")</b></center><br/>\n",
        "def udocker_init():\n",
        "    import os\n",
        "    if not os.path.exists(\"/home/user\"):\n",
        "        !pip install udocker > /dev/null\n",
        "        !udocker --allow-root install > /dev/null\n",
        "        !useradd -m user > /dev/null\n",
        "    print(f'Docker-in-Colab 1.1.0\\n')\n",
        "    print(f'Usage:     udocker(\"--help\")')\n",
        "    print(f'Examples:  https://github.com/indigo-dc/udocker?tab=readme-ov-file#examples')\n",
        "\n",
        "    def execute(command: str):\n",
        "        user_prompt = \"\\033[1;32muser@pc\\033[0m\"\n",
        "        print(f\"{user_prompt}$ udocker {command}\")\n",
        "        !su - user -c \"udocker $command\"\n",
        "\n",
        "    return execute\n",
        "\n",
        "udocker = udocker_init()"
      ],
      "metadata": {
        "id": "kmpa3jzzZYUr",
        "outputId": "5fb83c3c-bf7f-491e-905d-5538dff86b4e",
        "colab": {
          "base_uri": "https://localhost:8080/"
        }
      },
      "execution_count": 32,
      "outputs": [
        {
          "output_type": "stream",
          "name": "stdout",
          "text": [
            "Docker-in-Colab 1.1.0\n",
            "\n",
            "Usage:     udocker(\"--help\")\n",
            "Examples:  https://github.com/indigo-dc/udocker?tab=readme-ov-file#examples\n"
          ]
        }
      ]
    },
    {
      "cell_type": "code",
      "source": [
        "udocker (\"--help\")"
      ],
      "metadata": {
        "id": "yi-V8wUlbecq",
        "outputId": "89e148cc-c134-4d76-9fa9-fff3f0151da4",
        "colab": {
          "base_uri": "https://localhost:8080/"
        }
      },
      "execution_count": 44,
      "outputs": [
        {
          "output_type": "stream",
          "name": "stdout",
          "text": [
            "\u001b[1;32muser@pc\u001b[0m$ udocker --help\n",
            "\n",
            "Syntax:\n",
            "  udocker  [general_options] <command>  [command_options]  <command_args>\n",
            "\n",
            "  udocker [-h|--help|help]        :Display this help and exits\n",
            "  udocker [-V|--version|version]  :Display udocker and tarball version and exits\n",
            "\n",
            "General options common to all commands must appear before the command:\n",
            "  -D, --debug                   :Debug\n",
            "  -q, --quiet                   :Less verbosity\n",
            "  --insecure                    :Allow insecure non authenticated https\n",
            "  --repo=<directory>            :Use repository at directory\n",
            "  --allow-root                  :Allow execution by root NOT recommended\n",
            "  --config=<conf_file>          :Use configuration <conf_file>\n",
            "\n",
            "Commands:\n",
            "  --help [command]              :Command specific help\n",
            "  showconf                      :Print all configuration options\n",
            "\n",
            "  search <repo/expression>      :Search dockerhub for container images\n",
            "  pull <repo/image:tag>         :Pull container image from dockerhub\n",
            "  create <repo/image:tag>       :Create container from a pulled image\n",
            "  run <container_id|name>       :Execute created container\n",
            "  run <repo/image:tag>          :Pull, create and execute container\n",
            "\n",
            "  images -l                     :List container images\n",
            "  ps -m -s                      :List created containers\n",
            "  name <container_id> <name>    :Give name to container\n",
            "  rmname <name>                 :Delete name from container\n",
            "  rename <name> <new_name>      :Change container name\n",
            "  clone <container_id>          :Duplicate container\n",
            "  rm  <container-id|name>       :Delete container\n",
            "  rmi <repo/image:tag>          :Delete image\n",
            "  tag <repo/image:tag> <repo2/image2:tag2> :Tag image\n",
            "\n",
            "  import <tar> <repo/image:tag> :Import tar file (exported by docker)\n",
            "  import - <repo/image:tag>     :Import from stdin (exported by docker)\n",
            "  export -o <tar> <container>   :Export container directory tree to file\n",
            "  export - <container>          :Export container directory tree to stdin\n",
            "  load -i <exported-image>      :Load image from file (saved by docker)\n",
            "  load                          :Load image from stdin (saved by docker)\n",
            "  save -o <imagefile> <repo/image:tag>  :Save image with layers to file\n",
            "\n",
            "  inspect -p <repo/image:tag>   :Print image or container metadata\n",
            "  verify <repo/image:tag>       :Verify a pulled image\n",
            "  manifest inspect <repo/image:tag> :Print manifest metadata\n",
            "\n",
            "  udocker manifest inspect centos/centos8\n",
            "  udocker pull --platform=linux/arm64 centos/centos8\n",
            "  udocker tag centos/centos8  mycentos/centos8:arm64\n",
            "\n",
            "  protect <repo/image:tag>      :Protect repository\n",
            "  unprotect <repo/image:tag>    :Unprotect repository\n",
            "  protect <container>           :Protect container\n",
            "  unprotect <container>         :Unprotect container\n",
            "\n",
            "  mkrepo <top-repo-dir>         :Create another repository in location\n",
            "  setup --execmode=<mode>       :Change container execution mode\n",
            "  setup --nvidia                :Setup container to use nvidia GPU\n",
            "  setup --purge                 :clean mountpoints and files created by udocker\n",
            "  setup --fixperm               :attempt to fix file permissions\n",
            "\n",
            "  login                         :Login into docker repository\n",
            "  logout                        :Logout from docker repository\n",
            "\n",
            "Examples:\n",
            "  udocker search expression\n",
            "  udocker search quay.io/expression\n",
            "  udocker search --list-tags myimage\n",
            "  udocker pull myimage:mytag\n",
            "  udocker images\n",
            "  udocker create --name=mycontainer  myimage:mytag\n",
            "  udocker ps -m -s\n",
            "  udocker inspect mycontainer\n",
            "  udocker inspect -p mycontainer\n",
            "\n",
            "  udocker manifest inspect centos/centos8\n",
            "  udocker pull --platform=linux/arm64 centos/centos8\n",
            "  udocker tag centos/centos8  mycentos/centos8:arm64\n",
            "\n",
            "  udocker run  mycontainer  cat /etc/redhat-release\n",
            "  udocker run --hostauth --hostenv --bindhome  mycontainer\n",
            "  udocker run --user=root  mycontainer  yum install firefox\n",
            "  udocker run --hostauth --hostenv --bindhome mycontainer  firefox\n",
            "  udocker run --entrypoint=\"\" mycontainer  /bin/bash -i\n",
            "  udocker run --entrypoint=\"/bin/bash\" mycontainer -i\n",
            "\n",
            "  udocker clone --name=anotherc mycontainer\n",
            "  udocker rm anotherc\n",
            "\n",
            "  udocker mkrepo /data/myrepo\n",
            "  udocker --repo=/data/myrepo load -i docker-saved-repo.tar\n",
            "  udocker --repo=/data/myrepo images\n",
            "  udocker --repo=/data/myrepo run --user=$USER  myimage:mytag\n",
            "\n",
            "  udocker export -o myimage.tar mycontainer\n",
            "  udocker import myimage.tar mynewimage\n",
            "  udocker create --name=mynewc mynewimage\n",
            "  udocker export --clone -o mycontainer.tar mycontainer\n",
            "  udocker import --clone mycontainer.tar\n",
            "\n",
            "Notes:\n",
            " * by default the binaries, images and containers are placed in\n",
            "      $HOME/.udocker\n",
            " * by default the following host directories are mounted in the\n",
            "   container:\n",
            "      /dev /proc /sys /etc/resolv.conf /etc/host.conf /etc/hostname\n",
            " * to prevent the mount of the above directories use:\n",
            "      run  --nosysdirs  <container>\n",
            " * additional host directories to be mounted are specified with:\n",
            "      run --volume=/data:/mnt --volume=/etc/hosts  <container>\n",
            "      run --nosysdirs --volume=/dev --volume=/proc  <container>\n",
            " * udocker provides several execution modes that offer different\n",
            "   approaches and technologies to execute containers, they\n",
            "   can be selected using the setup command. See the setup help.\n",
            "      udocker setup --execmode=F3 fedx\n",
            "      udocker setup --execmode=R1 fedx\n",
            "      udocker setup --execmode=S1 fedx\n",
            "      udocker setup --help\n",
            " * udocker facilitates the usage of nvidia drivers within containers\n",
            "      udocker setup --nvidia fedx\n",
            "\n",
            "See: https://github.com/indigo-dc/udocker/blob/master/SUMMARY.md\n",
            "            \n"
          ]
        }
      ]
    },
    {
      "cell_type": "code",
      "source": [
        "udocker(\"run --name quickstart -p 6900:6900 argilla/argilla-quickstart:latest\")\n"
      ],
      "metadata": {
        "id": "CS-0N62ZbuUn"
      },
      "execution_count": null,
      "outputs": []
    },
    {
      "cell_type": "code",
      "source": [
        "# 1. Tirer l'image Docker\n",
        "udocker (\"pull argilla/argilla-quickstart:latest\")"
      ],
      "metadata": {
        "id": "12VAYsvDgAjo"
      },
      "execution_count": null,
      "outputs": []
    },
    {
      "cell_type": "code",
      "source": [
        "# 2. Créer un conteneur à partir de l'image tirée\n",
        "udocker (\"create --name=quickstart argilla/argilla-quickstart:latest\")\n",
        "\n",
        "# 3. Exécuter le conteneur\n",
        "udocker (\"run argilla/argilla-quickstart:latest\")"
      ],
      "metadata": {
        "id": "GOWv5FzpgKqu",
        "outputId": "4abbbb73-72dd-4ac4-8e65-5f19f56acb87",
        "colab": {
          "base_uri": "https://localhost:8080/"
        }
      },
      "execution_count": 43,
      "outputs": [
        {
          "output_type": "stream",
          "name": "stdout",
          "text": [
            "\u001b[1;32muser@pc\u001b[0m$ udocker create --name=quickstart argilla/argilla-quickstart:latest\n",
            "d56dd6bd-fb20-3263-80f0-7437e0f98fed\n",
            "\u001b[1;32muser@pc\u001b[0m$ udocker run --name=quickstart argilla/argilla-quickstart:latest\n",
            "Error: invalid container name\n"
          ]
        }
      ]
    },
    {
      "cell_type": "code",
      "source": [
        "udocker (\"images\")\n"
      ],
      "metadata": {
        "id": "CO8kQxdBhxNy",
        "outputId": "7482804b-446b-40e3-f80e-e2e9bb21f1af",
        "colab": {
          "base_uri": "https://localhost:8080/"
        }
      },
      "execution_count": 46,
      "outputs": [
        {
          "output_type": "stream",
          "name": "stdout",
          "text": [
            "\u001b[1;32muser@pc\u001b[0m$ udocker images\n",
            "REPOSITORY\n",
            "argilla/argilla-quickstart:latest    .\n"
          ]
        }
      ]
    },
    {
      "cell_type": "code",
      "source": [
        " udocker (\"create --name=mycontainer  argilla/argilla-quickstart:latest\")"
      ],
      "metadata": {
        "id": "wQKDnCeUi2N1",
        "outputId": "dc4b99a6-95af-46cd-c5ef-c41caf3af925",
        "colab": {
          "base_uri": "https://localhost:8080/"
        }
      },
      "execution_count": 48,
      "outputs": [
        {
          "output_type": "stream",
          "name": "stdout",
          "text": [
            "\u001b[1;32muser@pc\u001b[0m$ udocker create --name=mycontainer  argilla/argilla-quickstart:latest\n",
            "47fa503c-4e4f-380d-8d8b-f3c28fc90c4e\n"
          ]
        }
      ]
    },
    {
      "cell_type": "code",
      "source": [
        "udocker (\"ps\")\n"
      ],
      "metadata": {
        "id": "0bREE0YDjSbI",
        "outputId": "cc95b30f-c317-40ac-e3c5-2ef76b2838ca",
        "colab": {
          "base_uri": "https://localhost:8080/"
        }
      },
      "execution_count": 49,
      "outputs": [
        {
          "output_type": "stream",
          "name": "stdout",
          "text": [
            "\u001b[1;32muser@pc\u001b[0m$ udocker ps\n",
            "CONTAINER ID                         P M NAMES              IMAGE               \n",
            "d56dd6bd-fb20-3263-80f0-7437e0f98fed . W ['quickstart']     argilla/argilla-quickstart:latest\n",
            "26e4b7aa-67a3-3c35-b928-3abaa50949bf . W                    argilla/argilla-quickstart:latest\n",
            "47fa503c-4e4f-380d-8d8b-f3c28fc90c4e . W ['mycontainer']    argilla/argilla-quickstart:latest\n",
            "e1ae389f-188b-3f41-9fbd-9e87ae9c62a0 . W                    argilla/argilla-quickstart:latest\n"
          ]
        }
      ]
    },
    {
      "cell_type": "code",
      "source": [
        "# 3. Exécuter le conteneur\n",
        "udocker (\"run quickstart  cat /etc/redhat-release\")"
      ],
      "metadata": {
        "id": "LpWIbAfKh8bD",
        "outputId": "3d05476d-fde2-4a93-a5a5-918ab43614c1",
        "colab": {
          "base_uri": "https://localhost:8080/"
        }
      },
      "execution_count": 51,
      "outputs": [
        {
          "output_type": "stream",
          "name": "stdout",
          "text": [
            "\u001b[1;32muser@pc\u001b[0m$ udocker run quickstart  cat /etc/redhat-release\n",
            "Warning: this container exposes TCP/IP ports\n",
            " \n",
            " ****************************************************************************** \n",
            " *                                                                            * \n",
            " *               STARTING d56dd6bd-fb20-3263-80f0-7437e0f98fed                * \n",
            " *                                                                            * \n",
            " ****************************************************************************** \n",
            " executing: cat\n",
            "cat: /etc/redhat-release: No such file or directory\n"
          ]
        }
      ]
    }
  ]
}