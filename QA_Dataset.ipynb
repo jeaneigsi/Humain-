{
  "nbformat": 4,
  "nbformat_minor": 0,
  "metadata": {
    "colab": {
      "provenance": [],
      "mount_file_id": "1V4fPcMfZW8nSm6mzMrd-TGFYLGyH_9mZ",
      "authorship_tag": "ABX9TyOIpw+3XP7MW1Jj02BU7Gco",
      "include_colab_link": true
    },
    "kernelspec": {
      "name": "python3",
      "display_name": "Python 3"
    },
    "language_info": {
      "name": "python"
    }
  },
  "cells": [
    {
      "cell_type": "markdown",
      "metadata": {
        "id": "view-in-github",
        "colab_type": "text"
      },
      "source": [
        "<a href=\"https://colab.research.google.com/github/jeaneigsi/Humain-/blob/main/QA_Dataset.ipynb\" target=\"_parent\"><img src=\"https://colab.research.google.com/assets/colab-badge.svg\" alt=\"Open In Colab\"/></a>"
      ]
    },
    {
      "cell_type": "code",
      "source": [
        "!pip install -qU pypdf langchain_community langchain langchain_huggingface\n",
        "!pip install --upgrade --quiet huggingface_hub langchain_core"
      ],
      "metadata": {
        "id": "U2ZbZAh28uEh"
      },
      "execution_count": null,
      "outputs": []
    },
    {
      "cell_type": "code",
      "source": [
        "!pip install -q langchain-groq"
      ],
      "metadata": {
        "id": "HwM5e3XxECql"
      },
      "execution_count": 36,
      "outputs": []
    },
    {
      "cell_type": "code",
      "source": [
        "from langchain_core.prompts import ChatPromptTemplate\n",
        "from langchain_groq import ChatGroq\n",
        "\n",
        "chat = ChatGroq(temperature=0, groq_api_key=\"\", model_name=\"llama3-70b-8192\")\n",
        "system = \"Tu es un assistant intelligent. Reponds aux requetes des utilisateurs dans la langue francais\"\n",
        "human = \"{text}\"\n",
        "prompt = ChatPromptTemplate.from_messages([(\"system\", system), (\"human\", human)])\n",
        "\n",
        "chain = prompt | chat\n",
        "chain.invoke({\"text\": \"Explain the importance of low latency LLMs.\"})\n"
      ],
      "metadata": {
        "colab": {
          "base_uri": "https://localhost:8080/"
        },
        "id": "08s8smO6EHBu",
        "outputId": "957daf3d-5e0f-4c21-af03-87a815fe199e"
      },
      "execution_count": 72,
      "outputs": [
        {
          "output_type": "execute_result",
          "data": {
            "text/plain": [
              "AIMessage(content=\"Bonjour ! Je serais ravi de vous expliquer l'importance des modèles de langage légers à faible latence (LLMs).\\n\\nLes modèles de langage légers à faible latence (LLMs) sont des modèles de langage artificiels qui ont été entraînés pour répondre rapidement et avec précision aux requêtes des utilisateurs. La faible latence est essentielle pour de nombreuses applications, notamment :\\n\\n1. **Expérience utilisateur améliorée** : Les utilisateurs attendent des réponses rapides et précises. Les LLMs à faible latence permettent d'améliorer l'expérience utilisateur en fournissant des réponses en temps réel, ce qui renforce l'engagement et la satisfaction des utilisateurs.\\n\\n2. **Applications en temps réel** : Les LLMs à faible latence sont essentiels pour les applications qui nécessitent des réponses en temps réel, telles que les assistants vocaux, les systèmes de conversation, les jeux en ligne, etc.\\n\\n3. **Réduction des coûts** : Les LLMs à faible latence peuvent réduire les coûts en réduisant la charge de travail des serveurs et en améliorant l'efficacité des ressources informatiques.\\n\\n4. **Amélioration de la sécurité** : Les LLMs à faible latence peuvent aider à détecter et à répondre rapidement aux menaces de sécurité, ce qui renforce la sécurité des systèmes et des données.\\n\\n5. **Applications critiques** : Les LLMs à faible latence sont essentiels pour les applications critiques, telles que les systèmes de santé, les systèmes de sécurité, les systèmes de contrôle de trafic, etc., où les décisions doivent être prises rapidement.\\n\\nEn résumé, les modèles de langage légers à faible latence sont essentiels pour améliorer l'expérience utilisateur, réduire les coûts, améliorer la sécurité et répondre aux exigences des applications critiques.\", response_metadata={'token_usage': {'completion_tokens': 455, 'prompt_tokens': 45, 'total_tokens': 500, 'completion_time': 1.274701257, 'prompt_time': 0.034795747, 'queue_time': None, 'total_time': 1.309497004}, 'model_name': 'llama3-70b-8192', 'system_fingerprint': 'fp_753a4aecf6', 'finish_reason': 'stop', 'logprobs': None}, id='run-30a111b7-203a-4790-8bbb-0224781e152f-0')"
            ]
          },
          "metadata": {},
          "execution_count": 72
        }
      ]
    },
    {
      "cell_type": "code",
      "source": [
        "from langchain.chains import LLMChain\n",
        "from langchain_core.prompts import PromptTemplate\n",
        "from langchain_huggingface import HuggingFaceEndpoint\n",
        "\n",
        "\n",
        "\n",
        "import os\n",
        "\n",
        "# get a token: https://huggingface.co/docs/api-inference/quicktour#get-your-api-token\n",
        "\n",
        "from getpass import getpass\n",
        "\n",
        "HUGGINGFACEHUB_API_TOKEN = getpass()\n",
        "os.environ[\"HUGGINGFACEHUB_API_TOKEN\"] = HUGGINGFACEHUB_API_TOKEN\n"
      ],
      "metadata": {
        "colab": {
          "base_uri": "https://localhost:8080/"
        },
        "id": "_MtwhGvmHfKh",
        "outputId": "3aeb4f5f-90ee-4649-e196-aa859182bcb5"
      },
      "execution_count": 7,
      "outputs": [
        {
          "name": "stdout",
          "output_type": "stream",
          "text": [
            "··········\n"
          ]
        }
      ]
    },
    {
      "cell_type": "code",
      "source": [
        "import os\n",
        "from getpass import getpass\n",
        "\n",
        "OPENAI_API_KEY = getpass()\n",
        "os.environ[\"OPENAI_API_KEY\"] = OPENAI_API_KEY"
      ],
      "metadata": {
        "colab": {
          "base_uri": "https://localhost:8080/"
        },
        "id": "jVrusNstDRjv",
        "outputId": "4225c4eb-acf8-4fb5-df29-70b2d4448ac7"
      },
      "execution_count": 5,
      "outputs": [
        {
          "name": "stdout",
          "output_type": "stream",
          "text": [
            "··········\n"
          ]
        }
      ]
    },
    {
      "cell_type": "code",
      "source": [
        "!pip install langchain langchain_core langchain_openai langchain_community langchain_huggingface"
      ],
      "metadata": {
        "id": "QlvUalKUAklq"
      },
      "execution_count": null,
      "outputs": []
    },
    {
      "cell_type": "code",
      "source": [
        "from typing import List\n",
        "\n",
        "from langchain.output_parsers import PydanticOutputParser\n",
        "from langchain_core.prompts import PromptTemplate\n",
        "from langchain_core.pydantic_v1 import BaseModel, Field, validator\n",
        "from langchain_openai import ChatOpenAI"
      ],
      "metadata": {
        "id": "ELvSVukhGKDe"
      },
      "execution_count": 38,
      "outputs": []
    },
    {
      "cell_type": "code",
      "source": [
        "model = ChatOpenAI(temperature=0)"
      ],
      "metadata": {
        "id": "DDSsPAhC_Cg3"
      },
      "execution_count": 6,
      "outputs": []
    },
    {
      "cell_type": "code",
      "source": [
        "!pip install -qU pypdf"
      ],
      "metadata": {
        "colab": {
          "base_uri": "https://localhost:8080/"
        },
        "id": "BPKtD1ZZHWoZ",
        "outputId": "02713d0f-1965-4ac5-85b1-81ec373eebb7"
      },
      "execution_count": 17,
      "outputs": [
        {
          "output_type": "stream",
          "name": "stdout",
          "text": [
            "\u001b[?25l     \u001b[90m━━━━━━━━━━━━━━━━━━━━━━━━━━━━━━━━━━━━━━━━\u001b[0m \u001b[32m0.0/290.4 kB\u001b[0m \u001b[31m?\u001b[0m eta \u001b[36m-:--:--\u001b[0m\r\u001b[2K     \u001b[91m━━━━━━━━━━━━━━━━━━━━━━━\u001b[0m\u001b[91m╸\u001b[0m\u001b[90m━━━━━━━━━━━━━━━━\u001b[0m \u001b[32m174.1/290.4 kB\u001b[0m \u001b[31m5.2 MB/s\u001b[0m eta \u001b[36m0:00:01\u001b[0m\r\u001b[2K     \u001b[90m━━━━━━━━━━━━━━━━━━━━━━━━━━━━━━━━━━━━━━━━\u001b[0m \u001b[32m290.4/290.4 kB\u001b[0m \u001b[31m5.0 MB/s\u001b[0m eta \u001b[36m0:00:00\u001b[0m\n",
            "\u001b[?25h"
          ]
        }
      ]
    },
    {
      "cell_type": "code",
      "source": [
        "from langchain_community.document_loaders import PyPDFLoader\n",
        "\n",
        "file_path = \"/content/Burkina-Code-travail-2008.pdf\"\n",
        "loader = PyPDFLoader(file_path)\n",
        "\n",
        "docs = loader.load()\n",
        "\n",
        "print(len(docs))\n",
        "\n",
        "print(docs[0].metadata)"
      ],
      "metadata": {
        "colab": {
          "base_uri": "https://localhost:8080/"
        },
        "id": "x0gKLC4394Dm",
        "outputId": "1325769b-aa6d-445b-e937-2393cdf5dcd2"
      },
      "execution_count": 73,
      "outputs": [
        {
          "output_type": "stream",
          "name": "stdout",
          "text": [
            "116\n",
            "{'source': '/content/Burkina-Code-travail-2008.pdf', 'page': 0}\n"
          ]
        }
      ]
    },
    {
      "cell_type": "code",
      "source": [
        "print(docs[3].page_content)"
      ],
      "metadata": {
        "id": "YnC00fxCJ6h1"
      },
      "execution_count": null,
      "outputs": []
    },
    {
      "cell_type": "code",
      "source": [
        "docs[3]"
      ],
      "metadata": {
        "colab": {
          "base_uri": "https://localhost:8080/"
        },
        "id": "8xe3cRBQydq9",
        "outputId": "71bb5cc9-a93c-402d-a7c0-6d836944ab89"
      },
      "execution_count": 60,
      "outputs": [
        {
          "output_type": "execute_result",
          "data": {
            "text/plain": [
              "Document(page_content='Page 4 sur 116MINISTERE DU TRAVAIL ET  DE LA SECURITE \\nSOCIALE /BURKINA FASO 4\\n \\nd’une sanction et pour lequel ledit individu ne s’est pas offert de plein \\ngré. \\n \\nNul ne peut y recourir sous aucune forme, notamment en tant que : \\n \\n1. mesure de coercition, d’éducation politique, de sanction à l’égard de personnes qui ont exprimé  leurs opinions politiques ; \\n  \\n2. méthode de mobilisation et d’utilis ation de la main-d’œuvre à des \\nfins politiques; \\n \\n3. mesure de discipline au travail ; \\n \\n4. mesure de discrimination sociale, raciale, nationale ou religieuse ; \\n \\n5. punition pour avoir participé à des grèves. \\n \\nArticle 6  : N’est pas considéré comme travail forcé ou obligatoire au sens \\nde la présente loi : \\n \\n1. tout travail ou service exigé d’un individu en vertu des lois nationales sur le service militaire et affecté à des travaux à caractère militaire ; \\n \\n2. tout travail ou service découlant des obligations civiques normales des citoyens ; \\n \\n3. tout travail ou service exigé d’un individu résultant d’une condamnation judiciaire, à condition que ce travail soit exécuté sous la surveillance et le contrôle des autorités publiques  et que  \\n     ledit individu ne soit ni co ncédé, ni mis à la disposition de  \\n     particuliers, compagnies ou personnes  morales privées à                                     \\n     l’exception des associations d’utilité publique ; \\n \\n4. tout travail ou service exigé en cas de circonstance mettant en \\ndanger ou risquant de mettre en da nger la vie ou les conditions \\nnormales d’existence de tout ou partie de la communauté et en cas \\nde force majeure.  \\n ', metadata={'source': '/content/Burkina-Code-travail-2008.pdf', 'page': 3})"
            ]
          },
          "metadata": {},
          "execution_count": 60
        }
      ]
    },
    {
      "cell_type": "code",
      "source": [
        "docs[3].page_content"
      ],
      "metadata": {
        "colab": {
          "base_uri": "https://localhost:8080/",
          "height": 399
        },
        "id": "DzNX718XqKVm",
        "outputId": "a627763f-7e9c-4f1b-87ac-0d44536cdcde"
      },
      "execution_count": 35,
      "outputs": [
        {
          "output_type": "execute_result",
          "data": {
            "text/plain": [
              "'Page 4 sur 116MINISTERE DU TRAVAIL ET  DE LA SECURITE \\nSOCIALE /BURKINA FASO 4\\n \\nd’une sanction et pour lequel ledit individu ne s’est pas offert de plein \\ngré. \\n \\nNul ne peut y recourir sous aucune forme, notamment en tant que : \\n \\n1. mesure de coercition, d’éducation politique, de sanction à l’égard de personnes qui ont exprimé  leurs opinions politiques ; \\n  \\n2. méthode de mobilisation et d’utilis ation de la main-d’œuvre à des \\nfins politiques; \\n \\n3. mesure de discipline au travail ; \\n \\n4. mesure de discrimination sociale, raciale, nationale ou religieuse ; \\n \\n5. punition pour avoir participé à des grèves. \\n \\nArticle 6  : N’est pas considéré comme travail forcé ou obligatoire au sens \\nde la présente loi : \\n \\n1. tout travail ou service exigé d’un individu en vertu des lois nationales sur le service militaire et affecté à des travaux à caractère militaire ; \\n \\n2. tout travail ou service découlant des obligations civiques normales des citoyens ; \\n \\n3. tout travail ou service exigé d’un individu résultant d’une condamnation judiciaire, à condition que ce travail soit exécuté sous la surveillance et le contrôle des autorités publiques  et que  \\n     ledit individu ne soit ni co ncédé, ni mis à la disposition de  \\n     particuliers, compagnies ou personnes  morales privées à                                     \\n     l’exception des associations d’utilité publique ; \\n \\n4. tout travail ou service exigé en cas de circonstance mettant en \\ndanger ou risquant de mettre en da nger la vie ou les conditions \\nnormales d’existence de tout ou partie de la communauté et en cas \\nde force majeure.  \\n '"
            ],
            "application/vnd.google.colaboratory.intrinsic+json": {
              "type": "string"
            }
          },
          "metadata": {},
          "execution_count": 35
        }
      ]
    },
    {
      "cell_type": "code",
      "source": [
        "# Here's another example, but with a compound typed field.\n",
        "class Actor(BaseModel):\n",
        "    name: str = Field(description=\"Donne un titre au text a analyser\")\n",
        "    Questions: List[str] = Field(description=\"Une liste de questions a partir du text a analyser, qui permet de le comprendre en detail\")\n",
        "    Answers: List[str] = Field(description=\"Une liste de reponses precises et coherentes aux questions créees.\")\n",
        "\n",
        "\n",
        "actor_query = \"text a analyser : \"+docs[3].page_content\n",
        "\n",
        "parser = PydanticOutputParser(pydantic_object=Actor)\n",
        "\n",
        "prompt = PromptTemplate(\n",
        "    template=\"Tu es un assistant, ne pose pas de question mais reponds de la facon la plus coherente possible. Vous posez toujours le maximum de questions qui vous permettent de comprendre complètement un texte. Répondre à la requête de l'utilisateur en français.\\n{format_instructions}\\n{query}\\n\",\n",
        "    input_variables=[\"query\"],\n",
        "    partial_variables={\"format_instructions\": parser.get_format_instructions()},\n",
        ")\n",
        "\n",
        "chain = prompt | chat | parser\n",
        "\n",
        "chain.invoke({\"query\": actor_query})"
      ],
      "metadata": {
        "colab": {
          "base_uri": "https://localhost:8080/"
        },
        "id": "INY8AWjX_HWd",
        "outputId": "4b40bb57-aaf5-44f8-e255-5acab29f354c"
      },
      "execution_count": 95,
      "outputs": [
        {
          "output_type": "execute_result",
          "data": {
            "text/plain": [
              "Actor(name='Travail forcé ou obligatoire', Questions=['Quels sont les cas où le travail forcé ou obligatoire est interdit ?', 'Quels sont les travaux ou services qui ne sont pas considérés comme travail forcé ou obligatoire ?', \"Quels sont les cas où le travail ou service est exigé d'un individu en vertu des lois nationales sur le service militaire ?\", 'Quels sont les travaux ou services qui découlent des obligations civiques normales des citoyens ?', \"Quels sont les travaux ou services qui sont exigés d'un individu résultant d'une condamnation judiciaire ?\", \"Quels sont les cas où le travail ou service est exigé en cas de circonstance mettant en danger ou risquant de mettre en danger la vie ou les conditions normales d'existence de tout ou partie de la communauté ?\"], Answers=[\"Le travail forcé ou obligatoire est interdit comme mesure de coercition, d'éducation politique, de sanction à l'égard de personnes qui ont exprimé leurs opinions politiques, comme méthode de mobilisation et d'utilisation de la main-d'œuvre à des fins politiques, comme mesure de discipline au travail, comme mesure de discrimination sociale, raciale, nationale ou religieuse, ou comme punition pour avoir participé à des grèves.\", \"Les travaux ou services qui ne sont pas considérés comme travail forcé ou obligatoire sont ceux exigés d'un individu en vertu des lois nationales sur le service militaire, ceux découlant des obligations civiques normales des citoyens, ceux résultant d'une condamnation judiciaire, et ceux exigés en cas de circonstance mettant en danger ou risquant de mettre en danger la vie ou les conditions normales d'existence de tout ou partie de la communauté.\", \"Les travaux ou services qui sont exigés d'un individu en vertu des lois nationales sur le service militaire sont ceux affectés à des travaux à caractère militaire.\", 'Les travaux ou services qui découlent des obligations civiques normales des citoyens sont ceux qui sont exigés en vertu des lois nationales sur le service militaire et affectés à des travaux à caractère militaire.', \"Les travaux ou services qui sont exigés d'un individu résultant d'une condamnation judiciaire sont ceux qui sont exécutés sous la surveillance et le contrôle des autorités publiques, et qui ne sont ni concédés, ni mis à la disposition de particuliers, compagnies ou personnes morales privées à l'exception des associations d'utilité publique.\", \"Les travaux ou services qui sont exigés en cas de circonstance mettant en danger ou risquant de mettre en danger la vie ou les conditions normales d'existence de tout ou partie de la communauté sont ceux qui sont nécessaires pour protéger la communauté en cas de force majeure.\"])"
            ]
          },
          "metadata": {},
          "execution_count": 95
        }
      ]
    },
    {
      "cell_type": "code",
      "source": [
        "actor_query = docs[3].page_content\n"
      ],
      "metadata": {
        "id": "WXtn8QkK0VC6"
      },
      "execution_count": null,
      "outputs": []
    },
    {
      "cell_type": "code",
      "source": [
        "output=chain.invoke({\"query\": actor_query})\n",
        "Questions=output.Questions\n",
        "Reponses=output.Answers\n",
        "topic=output.name"
      ],
      "metadata": {
        "id": "tu1ojp3SpDEI"
      },
      "execution_count": 52,
      "outputs": []
    },
    {
      "cell_type": "code",
      "source": [
        "total=[doc.page_content for doc in docs]"
      ],
      "metadata": {
        "id": "_4c6FtHr0t8Q"
      },
      "execution_count": 63,
      "outputs": []
    },
    {
      "cell_type": "code",
      "source": [
        "docs=docs[0:10]"
      ],
      "metadata": {
        "id": "RfZMW5U91VuL"
      },
      "execution_count": 66,
      "outputs": []
    },
    {
      "cell_type": "code",
      "source": [
        "len(docs)"
      ],
      "metadata": {
        "colab": {
          "base_uri": "https://localhost:8080/"
        },
        "id": "1YZTS_eV5U7f",
        "outputId": "ec0628e7-bc08-4fad-c43f-6d0c51577f9d"
      },
      "execution_count": 91,
      "outputs": [
        {
          "output_type": "execute_result",
          "data": {
            "text/plain": [
              "116"
            ]
          },
          "metadata": {},
          "execution_count": 91
        }
      ]
    },
    {
      "cell_type": "code",
      "source": [
        "# Initialiser les listes pour stocker les résultats\n",
        "all_questions = []\n",
        "all_responses = []\n",
        "all_topics = []"
      ],
      "metadata": {
        "id": "TfU_ZCYz4jwk"
      },
      "execution_count": 92,
      "outputs": []
    },
    {
      "cell_type": "code",
      "source": [
        "import time\n",
        "# Itérer sur chaque élément dans docs\n",
        "for doc in docs[103:115]:\n",
        "    actor_query = \"Le text a analyser est : \"+doc.page_content\n",
        "\n",
        "    # Invoker la c  haîne avec la requête de l'acteur\n",
        "    output = chain.invoke({\"query\": actor_query})\n",
        "\n",
        "    # Extraire les questions, réponses et le sujet\n",
        "    Questions = output.Questions\n",
        "    Reponses = output.Answers\n",
        "    topic = output.name\n",
        "\n",
        "    # Ajouter les résultats aux listes\n",
        "    all_questions.extend(Questions)\n",
        "    all_responses.extend(Reponses)\n",
        "    all_topics.extend([topic] * len(Questions))\n",
        "\n",
        "    Questions = \"\"\n",
        "    Reponses =\"\"\n",
        "    topic = \"\"\n",
        "\n",
        "    # Attendre 1 minute avant la prochaine requête\n",
        "    time.sleep(15)"
      ],
      "metadata": {
        "id": "T_RCTN5b4tvb"
      },
      "execution_count": 99,
      "outputs": []
    },
    {
      "cell_type": "code",
      "source": [
        "len(all_questions)"
      ],
      "metadata": {
        "colab": {
          "base_uri": "https://localhost:8080/"
        },
        "id": "a2DSZilXU1Y7",
        "outputId": "3f341baf-48ca-43b3-89f2-45f74ea1fb71"
      },
      "execution_count": 100,
      "outputs": [
        {
          "output_type": "execute_result",
          "data": {
            "text/plain": [
              "699"
            ]
          },
          "metadata": {},
          "execution_count": 100
        }
      ]
    },
    {
      "cell_type": "code",
      "source": [
        "# Créer un DataFrame avec toutes les questions, réponses et les sujets\n",
        "df = pd.DataFrame({\n",
        "    'question': all_questions,\n",
        "    'response': all_responses,\n",
        "    'topic': all_topics\n",
        "})\n",
        "\n",
        "# Sauvegarder le DataFrame en CSV\n",
        "df.to_csv('questions_oreponses.csv', index=False)"
      ],
      "metadata": {
        "id": "AikKN8ed40j6"
      },
      "execution_count": 101,
      "outputs": []
    }
  ]
}
