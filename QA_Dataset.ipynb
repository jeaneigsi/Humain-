{
  "nbformat": 4,
  "nbformat_minor": 0,
  "metadata": {
    "colab": {
      "provenance": [],
      "mount_file_id": "1V4fPcMfZW8nSm6mzMrd-TGFYLGyH_9mZ",
      "authorship_tag": "ABX9TyNhUBKVYeC8LBQ7VyBtmH8m",
      "include_colab_link": true
    },
    "kernelspec": {
      "name": "python3",
      "display_name": "Python 3"
    },
    "language_info": {
      "name": "python"
    }
  },
  "cells": [
    {
      "cell_type": "markdown",
      "metadata": {
        "id": "view-in-github",
        "colab_type": "text"
      },
      "source": [
        "<a href=\"https://colab.research.google.com/github/jeaneigsi/Humain-/blob/main/QA_Dataset.ipynb\" target=\"_parent\"><img src=\"https://colab.research.google.com/assets/colab-badge.svg\" alt=\"Open In Colab\"/></a>"
      ]
    },
    {
      "cell_type": "code",
      "source": [
        "!pip install -qU pypdf langchain_community langchain langchain_huggingface\n",
        "!pip install --upgrade --quiet huggingface_hub langchain_core"
      ],
      "metadata": {
        "colab": {
          "base_uri": "https://localhost:8080/"
        },
        "id": "U2ZbZAh28uEh",
        "outputId": "26769616-ee3d-4ba4-a8ab-91a7abf38857"
      },
      "execution_count": 1,
      "outputs": [
        {
          "output_type": "stream",
          "name": "stdout",
          "text": [
            "\u001b[2K     \u001b[90m━━━━━━━━━━━━━━━━━━━━━━━━━━━━━━━━━━━━━━━━\u001b[0m \u001b[32m290.4/290.4 kB\u001b[0m \u001b[31m2.9 MB/s\u001b[0m eta \u001b[36m0:00:00\u001b[0m\n",
            "\u001b[2K     \u001b[90m━━━━━━━━━━━━━━━━━━━━━━━━━━━━━━━━━━━━━━━━\u001b[0m \u001b[32m2.2/2.2 MB\u001b[0m \u001b[31m18.8 MB/s\u001b[0m eta \u001b[36m0:00:00\u001b[0m\n",
            "\u001b[2K     \u001b[90m━━━━━━━━━━━━━━━━━━━━━━━━━━━━━━━━━━━━━━━━\u001b[0m \u001b[32m974.6/974.6 kB\u001b[0m \u001b[31m14.3 MB/s\u001b[0m eta \u001b[36m0:00:00\u001b[0m\n",
            "\u001b[2K     \u001b[90m━━━━━━━━━━━━━━━━━━━━━━━━━━━━━━━━━━━━━━━━\u001b[0m \u001b[32m315.6/315.6 kB\u001b[0m \u001b[31m11.1 MB/s\u001b[0m eta \u001b[36m0:00:00\u001b[0m\n",
            "\u001b[2K     \u001b[90m━━━━━━━━━━━━━━━━━━━━━━━━━━━━━━━━━━━━━━━━\u001b[0m \u001b[32m125.2/125.2 kB\u001b[0m \u001b[31m6.5 MB/s\u001b[0m eta \u001b[36m0:00:00\u001b[0m\n",
            "\u001b[2K     \u001b[90m━━━━━━━━━━━━━━━━━━━━━━━━━━━━━━━━━━━━━━━━\u001b[0m \u001b[32m227.1/227.1 kB\u001b[0m \u001b[31m12.1 MB/s\u001b[0m eta \u001b[36m0:00:00\u001b[0m\n",
            "\u001b[2K     \u001b[90m━━━━━━━━━━━━━━━━━━━━━━━━━━━━━━━━━━━━━━━━\u001b[0m \u001b[32m49.2/49.2 kB\u001b[0m \u001b[31m2.8 MB/s\u001b[0m eta \u001b[36m0:00:00\u001b[0m\n",
            "\u001b[2K     \u001b[90m━━━━━━━━━━━━━━━━━━━━━━━━━━━━━━━━━━━━━━━━\u001b[0m \u001b[32m145.0/145.0 kB\u001b[0m \u001b[31m2.2 MB/s\u001b[0m eta \u001b[36m0:00:00\u001b[0m\n",
            "\u001b[2K     \u001b[90m━━━━━━━━━━━━━━━━━━━━━━━━━━━━━━━━━━━━━━━━\u001b[0m \u001b[32m21.3/21.3 MB\u001b[0m \u001b[31m56.7 MB/s\u001b[0m eta \u001b[36m0:00:00\u001b[0m\n",
            "\u001b[2K     \u001b[90m━━━━━━━━━━━━━━━━━━━━━━━━━━━━━━━━━━━━━━━━\u001b[0m \u001b[32m402.6/402.6 kB\u001b[0m \u001b[31m7.1 MB/s\u001b[0m eta \u001b[36m0:00:00\u001b[0m\n",
            "\u001b[?25h"
          ]
        }
      ]
    },
    {
      "cell_type": "code",
      "source": [
        "!pip install -q langchain-groq"
      ],
      "metadata": {
        "colab": {
          "base_uri": "https://localhost:8080/"
        },
        "id": "HwM5e3XxECql",
        "outputId": "0ede28c7-51ac-41f6-9ef6-54da238cd260"
      },
      "execution_count": 2,
      "outputs": [
        {
          "output_type": "stream",
          "name": "stdout",
          "text": [
            "\u001b[2K     \u001b[90m━━━━━━━━━━━━━━━━━━━━━━━━━━━━━━━━━━━━━━━━\u001b[0m \u001b[32m103.5/103.5 kB\u001b[0m \u001b[31m2.6 MB/s\u001b[0m eta \u001b[36m0:00:00\u001b[0m\n",
            "\u001b[2K     \u001b[90m━━━━━━━━━━━━━━━━━━━━━━━━━━━━━━━━━━━━━━━━\u001b[0m \u001b[32m75.6/75.6 kB\u001b[0m \u001b[31m6.4 MB/s\u001b[0m eta \u001b[36m0:00:00\u001b[0m\n",
            "\u001b[2K     \u001b[90m━━━━━━━━━━━━━━━━━━━━━━━━━━━━━━━━━━━━━━━━\u001b[0m \u001b[32m77.9/77.9 kB\u001b[0m \u001b[31m6.9 MB/s\u001b[0m eta \u001b[36m0:00:00\u001b[0m\n",
            "\u001b[2K     \u001b[90m━━━━━━━━━━━━━━━━━━━━━━━━━━━━━━━━━━━━━━━━\u001b[0m \u001b[32m58.3/58.3 kB\u001b[0m \u001b[31m6.3 MB/s\u001b[0m eta \u001b[36m0:00:00\u001b[0m\n",
            "\u001b[?25h"
          ]
        }
      ]
    },
    {
      "cell_type": "code",
      "source": [
        "from langchain_core.prompts import ChatPromptTemplate\n",
        "from langchain_groq import ChatGroq\n",
        "\n",
        "chat = ChatGroq(temperature=0, groq_api_key=\"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\", model_name=\"llama3-70b-8192\")\n",
        "system = \"Tu es un genie dans tous les domaines, et excellent. Reponds aux requetes des utilisateurs dans la langue francais\"\n",
        "human = \"{text}\"\n",
        "prompt = ChatPromptTemplate.from_messages([(\"system\", system), (\"human\", human)])\n",
        "\n",
        "chain = prompt | chat\n",
        "chain.invoke({\"text\": \"Explain the importance of low latency LLMs.\"})\n"
      ],
      "metadata": {
        "colab": {
          "base_uri": "https://localhost:8080/"
        },
        "id": "08s8smO6EHBu",
        "outputId": "25f2ec15-cc01-4ce3-ad50-52945423ba89"
      },
      "execution_count": 4,
      "outputs": [
        {
          "output_type": "execute_result",
          "data": {
            "text/plain": [
              "AIMessage(content=\"Bonjour ! Je serais ravi de vous expliquer l'importance des modèles de langage légers à faible latence (LLMs).\\n\\nLes modèles de langage légers à faible latence (LLMs) sont des modèles de langage artificiels qui ont été entraînés pour répondre rapidement et avec précision aux requêtes des utilisateurs. La faible latence est essentielle pour de nombreuses applications, notamment :\\n\\n1. **Expérience utilisateur améliorée** : Les utilisateurs attendent des réponses rapides et précises. Les LLMs à faible latence permettent d'améliorer l'expérience utilisateur en fournissant des réponses en temps réel, ce qui renforce l'engagement et la satisfaction des utilisateurs.\\n\\n2. **Applications en temps réel** : Les LLMs à faible latence sont essentiels pour les applications qui nécessitent des réponses en temps réel, telles que les assistants vocaux, les systèmes de conversation, les jeux en ligne, etc.\\n\\n3. **Réduction des coûts** : Les LLMs à faible latence peuvent réduire les coûts en réduisant la charge de travail des serveurs et en améliorant l'efficacité des ressources informatiques.\\n\\n4. **Amélioration de la sécurité** : Les LLMs à faible latence peuvent aider à détecter et à répondre rapidement aux menaces de sécurité, ce qui renforce la sécurité des systèmes et des données.\\n\\n5. **Applications critiques** : Les LLMs à faible latence sont vitaux pour les applications critiques, telles que les systèmes de santé, les systèmes de sécurité, les systèmes de contrôle de trafic, etc., où les décisions doivent être prises rapidement.\\n\\n6. **Intégration avec d'autres technologies** : Les LLMs à faible latence peuvent être intégrés avec d'autres technologies, telles que les réseaux de neurones, les systèmes de vision par ordinateur, les systèmes de reconnaissance vocale, etc., pour créer des systèmes plus puissants et plus intelligents.\\n\\nEn résumé, les modèles de langage légers à faible latence sont essentiels pour de nombreuses applications qui nécessitent des réponses rapides et précises. Ils améliorent l'expérience utilisateur, réduisent les coûts, améliorent la sécurité et sont vitaux pour les applications critiques.\", response_metadata={'token_usage': {'completion_tokens': 549, 'prompt_tokens': 52, 'total_tokens': 601, 'completion_time': 1.5470680639999999, 'prompt_time': 0.021533613, 'queue_time': None, 'total_time': 1.5686016769999997}, 'model_name': 'llama3-70b-8192', 'system_fingerprint': 'fp_2f30b0b571', 'finish_reason': 'stop', 'logprobs': None}, id='run-de36778e-f834-4bc4-80c3-6dc0ec0958ca-0')"
            ]
          },
          "metadata": {},
          "execution_count": 4
        }
      ]
    },
    {
      "cell_type": "code",
      "source": [
        "from langchain.chains import LLMChain\n",
        "from langchain_core.prompts import PromptTemplate\n",
        "from langchain_huggingface import HuggingFaceEndpoint\n",
        "\n",
        "\n",
        "\n",
        "import os\n",
        "\n",
        "# get a token: https://huggingface.co/docs/api-inference/quicktour#get-your-api-token\n",
        "\n",
        "from getpass import getpass\n",
        "\n",
        "HUGGINGFACEHUB_API_TOKEN = getpass()\n",
        "os.environ[\"HUGGINGFACEHUB_API_TOKEN\"] = HUGGINGFACEHUB_API_TOKEN\n"
      ],
      "metadata": {
        "colab": {
          "base_uri": "https://localhost:8080/"
        },
        "id": "_MtwhGvmHfKh",
        "outputId": "3aeb4f5f-90ee-4649-e196-aa859182bcb5"
      },
      "execution_count": 7,
      "outputs": [
        {
          "name": "stdout",
          "output_type": "stream",
          "text": [
            "··········\n"
          ]
        }
      ]
    },
    {
      "cell_type": "code",
      "source": [
        "import os\n",
        "from getpass import getpass\n",
        "\n",
        "OPENAI_API_KEY = getpass()\n",
        "os.environ[\"OPENAI_API_KEY\"] = OPENAI_API_KEY"
      ],
      "metadata": {
        "colab": {
          "base_uri": "https://localhost:8080/"
        },
        "id": "jVrusNstDRjv",
        "outputId": "4225c4eb-acf8-4fb5-df29-70b2d4448ac7"
      },
      "execution_count": 5,
      "outputs": [
        {
          "name": "stdout",
          "output_type": "stream",
          "text": [
            "··········\n"
          ]
        }
      ]
    },
    {
      "cell_type": "code",
      "source": [
        "!pip install langchain langchain_core langchain_openai langchain_community langchain_huggingface"
      ],
      "metadata": {
        "id": "QlvUalKUAklq"
      },
      "execution_count": null,
      "outputs": []
    },
    {
      "cell_type": "code",
      "source": [
        "from typing import List\n",
        "\n",
        "from langchain.output_parsers import PydanticOutputParser\n",
        "from langchain_core.prompts import PromptTemplate\n",
        "from langchain_core.pydantic_v1 import BaseModel, Field, validator\n",
        "from langchain_openai import ChatOpenAI"
      ],
      "metadata": {
        "id": "ELvSVukhGKDe"
      },
      "execution_count": 10,
      "outputs": []
    },
    {
      "cell_type": "code",
      "source": [
        "model = ChatOpenAI(temperature=0)"
      ],
      "metadata": {
        "id": "DDSsPAhC_Cg3"
      },
      "execution_count": 6,
      "outputs": []
    },
    {
      "cell_type": "code",
      "source": [
        "!pip install -qU pypdf"
      ],
      "metadata": {
        "id": "BPKtD1ZZHWoZ"
      },
      "execution_count": 5,
      "outputs": []
    },
    {
      "cell_type": "code",
      "source": [
        "from langchain_community.document_loaders import PyPDFLoader\n",
        "\n",
        "file_path = \"/content/Burkina-Code-travail-2008.pdf\"\n",
        "loader = PyPDFLoader(file_path)\n",
        "\n",
        "docs = loader.load()\n",
        "\n",
        "print(len(docs))\n",
        "\n",
        "print(docs[0].metadata)"
      ],
      "metadata": {
        "colab": {
          "base_uri": "https://localhost:8080/"
        },
        "id": "x0gKLC4394Dm",
        "outputId": "2a7081bd-3f6c-43c7-9856-3886d236e4d2"
      },
      "execution_count": 6,
      "outputs": [
        {
          "output_type": "stream",
          "name": "stdout",
          "text": [
            "116\n",
            "{'source': '/content/Burkina-Code-travail-2008.pdf', 'page': 0}\n"
          ]
        }
      ]
    },
    {
      "cell_type": "code",
      "source": [
        "print(docs[3].page_content)"
      ],
      "metadata": {
        "id": "YnC00fxCJ6h1"
      },
      "execution_count": null,
      "outputs": []
    },
    {
      "cell_type": "code",
      "source": [
        "docs[3]"
      ],
      "metadata": {
        "colab": {
          "base_uri": "https://localhost:8080/"
        },
        "id": "8xe3cRBQydq9",
        "outputId": "71bb5cc9-a93c-402d-a7c0-6d836944ab89"
      },
      "execution_count": 60,
      "outputs": [
        {
          "output_type": "execute_result",
          "data": {
            "text/plain": [
              "Document(page_content='Page 4 sur 116MINISTERE DU TRAVAIL ET  DE LA SECURITE \\nSOCIALE /BURKINA FASO 4\\n \\nd’une sanction et pour lequel ledit individu ne s’est pas offert de plein \\ngré. \\n \\nNul ne peut y recourir sous aucune forme, notamment en tant que : \\n \\n1. mesure de coercition, d’éducation politique, de sanction à l’égard de personnes qui ont exprimé  leurs opinions politiques ; \\n  \\n2. méthode de mobilisation et d’utilis ation de la main-d’œuvre à des \\nfins politiques; \\n \\n3. mesure de discipline au travail ; \\n \\n4. mesure de discrimination sociale, raciale, nationale ou religieuse ; \\n \\n5. punition pour avoir participé à des grèves. \\n \\nArticle 6  : N’est pas considéré comme travail forcé ou obligatoire au sens \\nde la présente loi : \\n \\n1. tout travail ou service exigé d’un individu en vertu des lois nationales sur le service militaire et affecté à des travaux à caractère militaire ; \\n \\n2. tout travail ou service découlant des obligations civiques normales des citoyens ; \\n \\n3. tout travail ou service exigé d’un individu résultant d’une condamnation judiciaire, à condition que ce travail soit exécuté sous la surveillance et le contrôle des autorités publiques  et que  \\n     ledit individu ne soit ni co ncédé, ni mis à la disposition de  \\n     particuliers, compagnies ou personnes  morales privées à                                     \\n     l’exception des associations d’utilité publique ; \\n \\n4. tout travail ou service exigé en cas de circonstance mettant en \\ndanger ou risquant de mettre en da nger la vie ou les conditions \\nnormales d’existence de tout ou partie de la communauté et en cas \\nde force majeure.  \\n ', metadata={'source': '/content/Burkina-Code-travail-2008.pdf', 'page': 3})"
            ]
          },
          "metadata": {},
          "execution_count": 60
        }
      ]
    },
    {
      "cell_type": "code",
      "source": [
        "docs[3].page_content"
      ],
      "metadata": {
        "colab": {
          "base_uri": "https://localhost:8080/",
          "height": 399
        },
        "id": "DzNX718XqKVm",
        "outputId": "a627763f-7e9c-4f1b-87ac-0d44536cdcde"
      },
      "execution_count": 35,
      "outputs": [
        {
          "output_type": "execute_result",
          "data": {
            "text/plain": [
              "'Page 4 sur 116MINISTERE DU TRAVAIL ET  DE LA SECURITE \\nSOCIALE /BURKINA FASO 4\\n \\nd’une sanction et pour lequel ledit individu ne s’est pas offert de plein \\ngré. \\n \\nNul ne peut y recourir sous aucune forme, notamment en tant que : \\n \\n1. mesure de coercition, d’éducation politique, de sanction à l’égard de personnes qui ont exprimé  leurs opinions politiques ; \\n  \\n2. méthode de mobilisation et d’utilis ation de la main-d’œuvre à des \\nfins politiques; \\n \\n3. mesure de discipline au travail ; \\n \\n4. mesure de discrimination sociale, raciale, nationale ou religieuse ; \\n \\n5. punition pour avoir participé à des grèves. \\n \\nArticle 6  : N’est pas considéré comme travail forcé ou obligatoire au sens \\nde la présente loi : \\n \\n1. tout travail ou service exigé d’un individu en vertu des lois nationales sur le service militaire et affecté à des travaux à caractère militaire ; \\n \\n2. tout travail ou service découlant des obligations civiques normales des citoyens ; \\n \\n3. tout travail ou service exigé d’un individu résultant d’une condamnation judiciaire, à condition que ce travail soit exécuté sous la surveillance et le contrôle des autorités publiques  et que  \\n     ledit individu ne soit ni co ncédé, ni mis à la disposition de  \\n     particuliers, compagnies ou personnes  morales privées à                                     \\n     l’exception des associations d’utilité publique ; \\n \\n4. tout travail ou service exigé en cas de circonstance mettant en \\ndanger ou risquant de mettre en da nger la vie ou les conditions \\nnormales d’existence de tout ou partie de la communauté et en cas \\nde force majeure.  \\n '"
            ],
            "application/vnd.google.colaboratory.intrinsic+json": {
              "type": "string"
            }
          },
          "metadata": {},
          "execution_count": 35
        }
      ]
    },
    {
      "cell_type": "code",
      "source": [
        "# Here's another example, but with a compound typed field.\n",
        "class Actor(BaseModel):\n",
        "    name: str = Field(description=\"Donne un titre au text et le numero de page du texte a analyser\")\n",
        "    Questions: List[str] = Field(description=\"Une liste d'au moins cinq (10) questions a partir du text a analyser, qui permet de le comprendre en detail\")\n",
        "    Answers: List[str] = Field(description=\"Une liste de reponses precises et coherentes aux questions créees.\")\n",
        "\n",
        "\n",
        "actor_query = \"text a analyser : \"+docs[3].page_content\n",
        "\n",
        "parser = PydanticOutputParser(pydantic_object=Actor)\n",
        "\n",
        "prompt = PromptTemplate(\n",
        "    template=\"Tu es un assistant, ne pose pas de question mais reponds de la facon la plus coherente possible. Vous posez toujours le maximum de questions qui vous permettent de comprendre complètement un texte. Répondre à la requête de l'utilisateur en français.\\n{format_instructions}\\n{query}\\n\",\n",
        "    input_variables=[\"query\"],\n",
        "    partial_variables={\"format_instructions\": parser.get_format_instructions()},\n",
        ")\n",
        "\n",
        "chain = prompt | chat | parser\n",
        "\n",
        "chain.invoke({\"query\": actor_query})"
      ],
      "metadata": {
        "colab": {
          "base_uri": "https://localhost:8080/"
        },
        "id": "INY8AWjX_HWd",
        "outputId": "08954cc3-d008-4f80-da76-4d157141e218"
      },
      "execution_count": 11,
      "outputs": [
        {
          "output_type": "execute_result",
          "data": {
            "text/plain": [
              "Actor(name='Travail forcé ou obligatoire', Questions=['Quels sont les cas où le travail forcé ou obligatoire est interdit ?', 'Quels sont les travaux ou services qui ne sont pas considérés comme travail forcé ou obligatoire ?', \"Quels sont les cas où le travail ou service est exigé d'un individu en vertu des lois nationales sur le service militaire ?\", 'Quels sont les travaux ou services qui découlent des obligations civiques normales des citoyens ?', \"Quels sont les travaux ou services qui sont exigés en cas de circonstance mettant en danger ou risquant de mettre en danger la vie ou les conditions normales d'existence de tout ou partie de la communauté ?\", 'Quels sont les travaux ou services qui sont exigés en cas de force majeure ?', 'Quels sont les travaux ou services qui sont considérés comme travail forcé ou obligatoire ?', \"Quels sont les cas où le travail ou service est exigé d'un individu résultant d'une condamnation judiciaire ?\", \"Quels sont les travaux ou services qui sont considérés comme mesure de coercition, d'éducation politique, de sanction à l'égard de personnes qui ont exprimé leurs opinions politiques ?\", \"Quels sont les travaux ou services qui sont considérés comme méthode de mobilisation et d'utilisation de la main-d'œuvre à des fins politiques ?\", 'Quels sont les travaux ou services qui sont considérés comme mesure de discipline au travail ?'], Answers=[\"Le travail forcé ou obligatoire est interdit comme mesure de coercition, d'éducation politique, de sanction à l'égard de personnes qui ont exprimé leurs opinions politiques, comme méthode de mobilisation et d'utilisation de la main-d'œuvre à des fins politiques, comme mesure de discipline au travail, comme mesure de discrimination sociale, raciale, nationale ou religieuse, comme punition pour avoir participé à des grèves.\", \"Les travaux ou services qui ne sont pas considérés comme travail forcé ou obligatoire sont ceux exigés d'un individu en vertu des lois nationales sur le service militaire, ceux découlant des obligations civiques normales des citoyens, ceux exigés d'un individu résultant d'une condamnation judiciaire, et ceux exigés en cas de circonstance mettant en danger ou risquant de mettre en danger la vie ou les conditions normales d'existence de tout ou partie de la communauté.\", \"Les travaux ou services qui sont exigés d'un individu en vertu des lois nationales sur le service militaire sont ceux affectés à des travaux à caractère militaire.\", 'Les travaux ou services qui découlent des obligations civiques normales des citoyens sont ceux qui sont exigés en vertu des lois nationales sur le service militaire.', \"Les travaux ou services qui sont exigés en cas de circonstance mettant en danger ou risquant de mettre en danger la vie ou les conditions normales d'existence de tout ou partie de la communauté sont ceux qui visent à protéger la communauté.\", 'Les travaux ou services qui sont exigés en cas de force majeure sont ceux qui visent à protéger la communauté en cas de force majeure.', \"Les travaux ou services qui sont considérés comme travail forcé ou obligatoire sont ceux qui sont imposés à une personne contre son gré, notamment comme mesure de coercition, d'éducation politique, de sanction à l'égard de personnes qui ont exprimé leurs opinions politiques, comme méthode de mobilisation et d'utilisation de la main-d'œuvre à des fins politiques, comme mesure de discipline au travail, comme mesure de discrimination sociale, raciale, nationale ou religieuse, comme punition pour avoir participé à des grèves.\", \"Les travaux ou services qui sont exigés d'un individu résultant d'une condamnation judiciaire sont ceux qui sont exécutés sous la surveillance et le contrôle des autorités publiques.\", \"Les travaux ou services qui sont considérés comme mesure de coercition, d'éducation politique, de sanction à l'égard de personnes qui ont exprimé leurs opinions politiques sont interdits.\", \"Les travaux ou services qui sont considérés comme méthode de mobilisation et d'utilisation de la main-d'œuvre à des fins politiques sont interdits.\", 'Les travaux ou services qui sont considérés comme mesure de discipline au travail sont interdits.'])"
            ]
          },
          "metadata": {},
          "execution_count": 11
        }
      ]
    },
    {
      "cell_type": "code",
      "source": [
        "actor_query = docs[3].page_content\n"
      ],
      "metadata": {
        "id": "WXtn8QkK0VC6"
      },
      "execution_count": null,
      "outputs": []
    },
    {
      "cell_type": "code",
      "source": [
        "output=chain.invoke({\"query\": actor_query})\n",
        "Questions=output.Questions\n",
        "Reponses=output.Answers\n",
        "topic=output.name"
      ],
      "metadata": {
        "id": "tu1ojp3SpDEI"
      },
      "execution_count": 52,
      "outputs": []
    },
    {
      "cell_type": "code",
      "source": [
        "total=[doc.page_content for doc in docs]"
      ],
      "metadata": {
        "id": "_4c6FtHr0t8Q"
      },
      "execution_count": 63,
      "outputs": []
    },
    {
      "cell_type": "code",
      "source": [
        "docs=docs[0:10]"
      ],
      "metadata": {
        "id": "RfZMW5U91VuL"
      },
      "execution_count": 66,
      "outputs": []
    },
    {
      "cell_type": "code",
      "source": [
        "len(docs)"
      ],
      "metadata": {
        "colab": {
          "base_uri": "https://localhost:8080/"
        },
        "id": "1YZTS_eV5U7f",
        "outputId": "e04e6bb1-cb0e-4c37-bf33-b3181282f8d7"
      },
      "execution_count": 12,
      "outputs": [
        {
          "output_type": "execute_result",
          "data": {
            "text/plain": [
              "116"
            ]
          },
          "metadata": {},
          "execution_count": 12
        }
      ]
    },
    {
      "cell_type": "code",
      "source": [
        "docs[80]"
      ],
      "metadata": {
        "colab": {
          "base_uri": "https://localhost:8080/"
        },
        "id": "hiAmx5XjoR7c",
        "outputId": "56159731-1a50-4e6b-d7f4-a902ca0167cd"
      },
      "execution_count": 31,
      "outputs": [
        {
          "output_type": "execute_result",
          "data": {
            "text/plain": [
              "Document(page_content='Page 81 sur 116MINIS TERE DU TR AVAIL ET DE LA SECURITE \\nSOCIALE /BURKINA FASO 81\\n \\n \\nLeurs statuts fixent les règles d’adhésion et  de représentativité dans les \\norganes dirigeants de l’union.  \\n \\n Article 301  : Les autorités compétentes peuvent mettre des locaux à la \\ndisposition des unions de syndicats po ur l’exercice de leurs activités. \\n \\n \\n \\n  Section 4  : Représentativité syndicale \\n \\n Article 302  : Le ministre chargé du travail publie la liste des syndicats  \\nles plus représentatifs tous les quatre ans. \\n  \\nLes éléments d’appréciation de la représentativité de l’organisation syndicale sont les résultats des élections professionnelles. \\n \\nLes modalités d’organisation de ce s élections sont fixées par voie \\nréglementaire par le ministre chargé du travail.  \\n  \\nUn décret en conseil des ministres après avis de la commission consultative du travail, définit les formes d’organisations syndicales et les critères de représentativité. \\n \\nArticle 303  : L a  d é c i s i o n  d u  m i n i s t r e  c h a r gé du travail déterminant les \\nsyndicats les plus représentatifs est susceptible de recours devant la juridiction administrative compétente, dans un délai de quinze jours \\naprès la publication de la liste. \\n \\nEn cas de recours, le dossier fourni  par le ministre chargé du travail \\ncomprend tous les éléments d’appréciation recueillis et l’avis des \\nservices techniques du ministère . \\n \\nLe recours n’est pas suspensif de la  décision du ministre chargé du \\ntravail. \\n \\nSection 5  : Marques syndicales \\n ', metadata={'source': '/content/Burkina-Code-travail-2008.pdf', 'page': 80})"
            ]
          },
          "metadata": {},
          "execution_count": 31
        }
      ]
    },
    {
      "cell_type": "code",
      "source": [
        "# Initialiser les listes pour stocker les résultats\n",
        "all_questions = []\n",
        "all_responses = []\n",
        "all_topics = []"
      ],
      "metadata": {
        "id": "TfU_ZCYz4jwk"
      },
      "execution_count": 20,
      "outputs": []
    },
    {
      "cell_type": "code",
      "source": [
        "import time\n",
        "# Itérer sur chaque élément dans docs\n",
        "for doc in docs[93:115]:\n",
        "    actor_query = \"Le texte a analyser est : \"+doc.page_content\n",
        "\n",
        "    # Invoker la c  haîne avec la requête de l'acteur\n",
        "    output = chain.invoke({\"query\": actor_query})\n",
        "\n",
        "    # Extraire les questions, réponses et le sujet\n",
        "    Questions = output.Questions\n",
        "    Reponses = output.Answers\n",
        "    topic = output.name\n",
        "\n",
        "    # Ajouter les résultats aux listes\n",
        "    all_questions.extend(Questions)\n",
        "    all_responses.extend(Reponses)\n",
        "    all_topics.extend([topic] * len(Questions))\n",
        "\n",
        "    Questions = \"\"\n",
        "    Reponses =\"\"\n",
        "    topic = \"\"\n",
        "\n",
        "    # Attendre 1 minute avant la prochaine requête\n",
        "    time.sleep(15)"
      ],
      "metadata": {
        "id": "T_RCTN5b4tvb"
      },
      "execution_count": 34,
      "outputs": []
    },
    {
      "cell_type": "code",
      "source": [
        "actor_query"
      ],
      "metadata": {
        "colab": {
          "base_uri": "https://localhost:8080/",
          "height": 254
        },
        "id": "8zRYhuxNo0qU",
        "outputId": "9f91e2ff-e9aa-4dd4-ca32-b453b68584b0"
      },
      "execution_count": 33,
      "outputs": [
        {
          "output_type": "execute_result",
          "data": {
            "text/plain": [
              "'Le texte a analyser est : Page 92 sur 116MINIS TERE DU TR AVAIL ET DE LA SECURITE \\nSOCIALE /BURKINA FASO 92\\n \\nArticle 347  : Les parties sont tenues de se rendre au lieu, jour et heure \\nfixés par le président du tribunal du travail.  \\n \\nElles peuvent se faire assister ou représenter par l’une des personnes \\nsuivantes : \\n \\n1. un travailleur ou un employeur appartenant à la même branche d’activités ;  \\n \\n2. un avocat régulièrement inscrit à un barreau ;  \\n \\n3. un représentant des organisations syndicales auxquelles elles sont affiliées.  \\n \\nLes employeurs peuvent également être représentés par un directeur ou un employé de l’entreprise ou de l’établissement. \\nA l’exception des avocats, tout mandataire des parties doit avoir reçu mandat écrit du mandant et agréé par le président du tribunal du travail ou de la chambre sociale. \\n \\nArticle 348  : Si le demandeur ne comparaît pas au jour fixé, et s’il est \\nprouvé qu’il a reçu la convocation et ne justifie pas d’un cas de force majeure, la cause est rayée du rôle.  \\n \\nIl en est de même quand après renvoi  le demandeur  ne comparaît pas. \\n \\nDans ce cas, la cause ne peut être reprise qu’une seule fois et selon les \\nformes prescrites pour la demande initiale, sous peine de déchéance. \\n \\nSi le défendeur ne comparaît pas et ne justifie pas d’un cas de force majeure, défaut est donné contre lui et le tribunal statue sur le mérite de la demande. \\n \\nLe défendeur qui a comparu ne peut plus faire défaut.  \\n \\nDans ce cas, la décision est réputée contradictoire et, après signification \\ndans les formes prévues à l’article 354 ci-dessous, seule la voie de l’appel est ouverte. \\n '"
            ],
            "application/vnd.google.colaboratory.intrinsic+json": {
              "type": "string"
            }
          },
          "metadata": {},
          "execution_count": 33
        }
      ]
    },
    {
      "cell_type": "code",
      "source": [
        "del all_questions[-1]"
      ],
      "metadata": {
        "id": "uSdBZ2oCrd9F"
      },
      "execution_count": 47,
      "outputs": []
    },
    {
      "cell_type": "code",
      "source": [
        "len(all_questions)"
      ],
      "metadata": {
        "colab": {
          "base_uri": "https://localhost:8080/"
        },
        "id": "a2DSZilXU1Y7",
        "outputId": "bdd8dabb-b700-4ed2-aa42-b3ae58bd6546"
      },
      "execution_count": 48,
      "outputs": [
        {
          "output_type": "execute_result",
          "data": {
            "text/plain": [
              "1122"
            ]
          },
          "metadata": {},
          "execution_count": 48
        }
      ]
    },
    {
      "cell_type": "code",
      "source": [
        "all_questions[210]"
      ],
      "metadata": {
        "colab": {
          "base_uri": "https://localhost:8080/",
          "height": 54
        },
        "id": "fDUdUIcahkk0",
        "outputId": "ec8b4dbf-e6fc-45e1-adda-73c59dc1bb08"
      },
      "execution_count": 23,
      "outputs": [
        {
          "output_type": "execute_result",
          "data": {
            "text/plain": [
              "'Quel est le sort du travailleur qui rompt abusivement son contrat de travail et offre ses services à un nouvel employeur?'"
            ],
            "application/vnd.google.colaboratory.intrinsic+json": {
              "type": "string"
            }
          },
          "metadata": {},
          "execution_count": 23
        }
      ]
    },
    {
      "cell_type": "code",
      "source": [
        "# Créer un DataFrame avec toutes les questions, réponses et les sujets\n",
        "import pandas as pd\n",
        "df = pd.DataFrame({\n",
        "    'question': all_questions,\n",
        "    'response': all_responses,\n",
        "    'topic': all_topics\n",
        "})\n",
        "\n",
        "# Sauvegarder le DataFrame en CSV\n",
        "df.to_csv('legaldataset.csv', index=False)"
      ],
      "metadata": {
        "id": "AikKN8ed40j6"
      },
      "execution_count": 49,
      "outputs": []
    }
  ]
}