{
  "nbformat": 4,
  "nbformat_minor": 0,
  "metadata": {
    "colab": {
      "provenance": [],
      "authorship_tag": "ABX9TyPg1mhOhD/CD+xv9Xg073fO",
      "include_colab_link": true
    },
    "kernelspec": {
      "name": "python3",
      "display_name": "Python 3"
    },
    "language_info": {
      "name": "python"
    }
  },
  "cells": [
    {
      "cell_type": "markdown",
      "metadata": {
        "id": "view-in-github",
        "colab_type": "text"
      },
      "source": [
        "<a href=\"https://colab.research.google.com/github/jeaneigsi/Humain-/blob/main/PaddleOcr.ipynb\" target=\"_parent\"><img src=\"https://colab.research.google.com/assets/colab-badge.svg\" alt=\"Open In Colab\"/></a>"
      ]
    },
    {
      "cell_type": "code",
      "execution_count": null,
      "metadata": {
        "id": "dGYGBKYzxt4X"
      },
      "outputs": [],
      "source": [
        "!python3 -m pip install paddlepaddle -i https://mirror.baidu.com/pypi/simple #on cpu\n",
        "# https://learnopencv.com/optical-character-recognition-using-paddleocr/\n",
        "# !git clone https://github.com/PaddlePaddle/PaddleOCR.git\n"
      ]
    },
    {
      "cell_type": "code",
      "source": [
        "# !pip install paddlepaddle-gpu\n",
        "!pip install paddleocr\n",
        "from paddleocr import PaddleOCR,draw_ocr\n",
        "\n",
        "# from paddleocr import PaddleOCR,draw_ocr\n",
        "import cv2\n",
        "import matplotlib.pyplot as plt\n",
        "%matplotlib inline\n",
        "ocr = PaddleOCR(use_angle_cls=True,lang=\"en\",use_gpu=False)"
      ],
      "metadata": {
        "id": "UBfG9VGMC9XX"
      },
      "execution_count": null,
      "outputs": []
    },
    {
      "cell_type": "code",
      "source": [
        "ocr.args"
      ],
      "metadata": {
        "colab": {
          "base_uri": "https://localhost:8080/"
        },
        "id": "utIlvWYuOZEi",
        "outputId": "d6ae0f36-edb1-48e6-a349-416e218021dc"
      },
      "execution_count": 5,
      "outputs": [
        {
          "output_type": "execute_result",
          "data": {
            "text/plain": [
              "Namespace(help='==SUPPRESS==', use_gpu=False, use_xpu=False, use_npu=False, ir_optim=True, use_tensorrt=False, min_subgraph_size=15, precision='fp32', gpu_mem=500, gpu_id=0, image_dir=None, page_num=0, det_algorithm='DB', det_model_dir='/root/.paddleocr/whl/det/en/en_PP-OCRv3_det_infer', det_limit_side_len=960, det_limit_type='max', det_box_type='quad', det_db_thresh=0.3, det_db_box_thresh=0.6, det_db_unclip_ratio=1.5, max_batch_size=10, use_dilation=False, det_db_score_mode='fast', det_east_score_thresh=0.8, det_east_cover_thresh=0.1, det_east_nms_thresh=0.2, det_sast_score_thresh=0.5, det_sast_nms_thresh=0.2, det_pse_thresh=0, det_pse_box_thresh=0.85, det_pse_min_area=16, det_pse_scale=1, scales=[8, 16, 32], alpha=1.0, beta=1.0, fourier_degree=5, rec_algorithm='SVTR_LCNet', rec_model_dir='/root/.paddleocr/whl/rec/en/en_PP-OCRv4_rec_infer', rec_image_inverse=True, rec_image_shape='3, 48, 320', rec_batch_num=6, max_text_length=25, rec_char_dict_path='/usr/local/lib/python3.10/dist-packages/paddleocr/ppocr/utils/en_dict.txt', use_space_char=True, vis_font_path='./doc/fonts/simfang.ttf', drop_score=0.5, e2e_algorithm='PGNet', e2e_model_dir=None, e2e_limit_side_len=768, e2e_limit_type='max', e2e_pgnet_score_thresh=0.5, e2e_char_dict_path='./ppocr/utils/ic15_dict.txt', e2e_pgnet_valid_set='totaltext', e2e_pgnet_mode='fast', use_angle_cls=True, cls_model_dir='/root/.paddleocr/whl/cls/ch_ppocr_mobile_v2.0_cls_infer', cls_image_shape='3, 48, 192', label_list=['0', '180'], cls_batch_num=6, cls_thresh=0.9, enable_mkldnn=False, cpu_threads=10, use_pdserving=False, warmup=False, sr_model_dir=None, sr_image_shape='3, 32, 128', sr_batch_num=1, draw_img_save_dir='./inference_results', save_crop_res=False, crop_res_save_dir='./output', use_mp=False, total_process_num=1, process_id=0, benchmark=False, save_log_path='./log_output/', show_log=True, use_onnx=False, output='./output', table_max_len=488, table_algorithm='TableAttn', table_model_dir=None, merge_no_span_structure=True, table_char_dict_path=None, layout_model_dir=None, layout_dict_path=None, layout_score_threshold=0.5, layout_nms_threshold=0.5, kie_algorithm='LayoutXLM', ser_model_dir=None, re_model_dir=None, use_visual_backbone=True, ser_dict_path='../train_data/XFUND/class_list_xfun.txt', ocr_order_method=None, mode='structure', image_orientation=False, layout=True, table=True, ocr=True, recovery=False, use_pdf2docx_api=False, invert=False, binarize=False, alphacolor=(255, 255, 255), lang='en', det=True, rec=True, type='ocr', ocr_version='PP-OCRv4', structure_version='PP-StructureV2')"
            ]
          },
          "metadata": {},
          "execution_count": 5
        }
      ]
    },
    {
      "cell_type": "code",
      "source": [
        "img_path=\"./test2.jpg\"\n",
        "result = ocr.ocr(img_path)\n"
      ],
      "metadata": {
        "colab": {
          "base_uri": "https://localhost:8080/"
        },
        "id": "uo3MRG8rIpzi",
        "outputId": "7c4c65d5-3e04-46d0-c7a9-82fe09abaeee"
      },
      "execution_count": 41,
      "outputs": [
        {
          "output_type": "stream",
          "name": "stdout",
          "text": [
            "[2024/05/29 12:36:49] ppocr DEBUG: dt_boxes num : 78, elapsed : 0.07513546943664551\n",
            "[2024/05/29 12:36:50] ppocr DEBUG: cls num  : 78, elapsed : 0.08760881423950195\n",
            "[2024/05/29 12:36:50] ppocr DEBUG: rec_res num  : 78, elapsed : 0.32790517807006836\n"
          ]
        }
      ]
    },
    {
      "cell_type": "code",
      "source": [
        "import cv2\n",
        "import os\n",
        "import matplotlib.pyplot as plt\n",
        "\n",
        "\n",
        "def save_ocr(img_path, out_path, result, font):\n",
        "    # Ensure the output directory exists\n",
        "    os.makedirs(out_path, exist_ok=True)\n",
        "\n",
        "    # Extract the image filename without the extension\n",
        "    filename = os.path.splitext(os.path.basename(img_path))[0]\n",
        "\n",
        "    # Define the save path with a valid image extension\n",
        "    save_path = os.path.join(out_path, f\"{filename}_ocr_output.png\")\n",
        "\n",
        "    image = cv2.imread(img_path)\n",
        "    if image is None:\n",
        "        raise FileNotFoundError(f\"Could not read the image from {img_path}\")\n",
        "\n",
        "    # Unpack the OCR result\n",
        "    result = result[0]\n",
        "\n",
        "\n",
        "    boxes = [line[0] for line in result]\n",
        "    txts = [line[1][0] for line in result]\n",
        "    scores = [line[1][1] for line in result]\n",
        "\n",
        "    # Draw the OCR results on the image\n",
        "    im_show = draw_ocr(image, boxes, txts, scores, font_path=font)\n",
        "\n",
        "    # Save the resulting image\n",
        "    success = cv2.imwrite(save_path, im_show)\n",
        "    if not success:\n",
        "        raise IOError(f\"Could not write the image to {save_path}\")\n",
        "\n",
        "    # Convert the image to RGB for displaying with matplotlib\n",
        "    img = cv2.cvtColor(im_show, cv2.COLOR_BGR2RGB)\n",
        "    plt.imshow(img)\n",
        "    plt.axis('off')  # Hide axes\n",
        "    plt.show()\n",
        "\n",
        "    print(f\"OCR results saved to {save_path},all texts is {final_text}\")\n",
        "\n"
      ],
      "metadata": {
        "id": "jYov5zBKI6tM"
      },
      "execution_count": 32,
      "outputs": []
    },
    {
      "cell_type": "code",
      "source": [
        "import os\n",
        "import cv2\n",
        "import matplotlib.pyplot as plt\n",
        "%matplotlib inline\n",
        "# Specifying output path and font path.\n",
        "out_path = './output_images'\n",
        "font = './simfang.ttf'\n",
        "img_path = 'test2.jpg'\n",
        "result = ocr.ocr(img_path)\n",
        "\n",
        "save_ocr(img_path, out_path, result, font)"
      ],
      "metadata": {
        "id": "wpn4pqVaJvJy"
      },
      "execution_count": 9,
      "outputs": []
    },
    {
      "cell_type": "code",
      "source": [
        "result[0]\n",
        "txts = [line[1][0] for line in result[0]] #list\n",
        "final_output=' '.join(txts) #string\n",
        "final_output"
      ],
      "metadata": {
        "colab": {
          "base_uri": "https://localhost:8080/",
          "height": 235
        },
        "id": "vMIVlDpeQ8gH",
        "outputId": "6abefcd3-808f-4cc1-80bc-5adcb2cc9d65"
      },
      "execution_count": 45,
      "outputs": [
        {
          "output_type": "execute_result",
          "data": {
            "text/plain": [
              "\"DEPARTMENT'S COPY Ecobank FLEASE SEUE ECOSANK SURKINA TELEX TRANSER 49.R dn Fhotelde ie 018.P.145Ouagadougou5 MANAGERS CHECK Burkina Faso BY CASH ORAFT VALUE-DATE Esptce OTER TRANSFER VALUE DATE BY ADORESS/A The Sum of COY Amount EUROS SCCOUNTN AT/N de Comote EFICARylANK  Bangue Beneliciaire 022350t080600051044284 NomAdresse  PMNO CODESANQU CODE GUICHE RIB Scolaritr LonsPe Bawbte RECEPTIGNNE DETAEs.OEMotf de paiement DETACUNT0575501-9 267FE2024 Rate/ Contre aleur Visa..e...y DosCompteN Agence Principale Fois Dobr Compte N Com.fix NAME OFAPPLICANT Autres com. ADDRESS/Adres Com.cheque t0209206 Telex T.V.A. For myaccountan nsk and subject to the conditions outlined on the reserse wicti have reacand understood. Piease effect the transaction detailled above Cel ordre de p est soumis aux conditions stipulees au verso TOTAL which Teller Should Receive C.F.A SIGNATURE N20806 FOR BANK USE ONLY Transaction N Transaction Type lnput Clerk Authorizer Commission code Charges code\""
            ],
            "application/vnd.google.colaboratory.intrinsic+json": {
              "type": "string"
            }
          },
          "metadata": {},
          "execution_count": 45
        }
      ]
    }
  ]
}