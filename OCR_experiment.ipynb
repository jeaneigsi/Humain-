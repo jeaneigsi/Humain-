{
  "nbformat": 4,
  "nbformat_minor": 0,
  "metadata": {
    "colab": {
      "provenance": [],
      "authorship_tag": "ABX9TyNwaXXQCyufn2ZPOEnNNANr",
      "include_colab_link": true
    },
    "kernelspec": {
      "name": "python3",
      "display_name": "Python 3"
    },
    "language_info": {
      "name": "python"
    }
  },
  "cells": [
    {
      "cell_type": "markdown",
      "metadata": {
        "id": "view-in-github",
        "colab_type": "text"
      },
      "source": [
        "<a href=\"https://colab.research.google.com/github/jeaneigsi/Humain-/blob/main/OCR_experiment.ipynb\" target=\"_parent\"><img src=\"https://colab.research.google.com/assets/colab-badge.svg\" alt=\"Open In Colab\"/></a>"
      ]
    },
    {
      "cell_type": "markdown",
      "source": [
        "# Finetuning / test pipeline"
      ],
      "metadata": {
        "id": "kdU_yqxW4z98"
      }
    },
    {
      "cell_type": "code",
      "source": [
        "!pip install memory_profiler\n",
        "!pip -q install datasets\n",
        "!pip -q install paddlepaddle\n",
        "!pip -q install \"paddleocr>=2.0.1\" # Recommend to use version 2.0.1+"
      ],
      "metadata": {
        "id": "N7oOTN4iIJNU"
      },
      "execution_count": null,
      "outputs": []
    },
    {
      "cell_type": "code",
      "source": [
        "!export GROQ_API_KEY=\n"
      ],
      "metadata": {
        "id": "c-UXAbmRg0q6"
      },
      "execution_count": null,
      "outputs": []
    },
    {
      "cell_type": "code",
      "source": [
        "!pip -q install groq"
      ],
      "metadata": {
        "colab": {
          "base_uri": "https://localhost:8080/"
        },
        "id": "-8-rikP4hp4G",
        "outputId": "7a30dea5-04fa-4a08-8482-81c5d24cec04"
      },
      "execution_count": null,
      "outputs": [
        {
          "output_type": "stream",
          "name": "stdout",
          "text": [
            "\u001b[?25l   \u001b[90m━━━━━━━━━━━━━━━━━━━━━━━━━━━━━━━━━━━━━━━━\u001b[0m \u001b[32m0.0/103.5 kB\u001b[0m \u001b[31m?\u001b[0m eta \u001b[36m-:--:--\u001b[0m\r\u001b[2K   \u001b[90m━━━━━━━━━━━━━━━━━━━━━━━━━━━━━━━━━━━━━━━━\u001b[0m \u001b[32m103.5/103.5 kB\u001b[0m \u001b[31m7.0 MB/s\u001b[0m eta \u001b[36m0:00:00\u001b[0m\n",
            "\u001b[?25h"
          ]
        }
      ]
    },
    {
      "cell_type": "code",
      "source": [
        "import os\n",
        "from groq import Groq\n",
        "\n",
        "def initialize_groq_client():\n",
        "    \"\"\"\n",
        "    Initialize the Groq client using the API key from environment variables.\n",
        "    \"\"\"\n",
        "    api_key =\"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\"\n",
        "    if not api_key:\n",
        "        raise ValueError(\"GROQ_API_KEY environment variable not set.\")\n",
        "    return Groq(api_key=api_key)\n",
        "\n",
        "def get_chat_completion(query, model=\"llama3-70b-8192\"):\n",
        "    \"\"\"\n",
        "    Get a chat completion from the Groq API based on the user query.\n",
        "\n",
        "    :param query: User's query as a string.\n",
        "    :param model: Model to be used for the completion.\n",
        "    :return: The response content from the chat completion.\n",
        "    \"\"\"\n",
        "    client = initialize_groq_client()\n",
        "    messages = [\n",
        "        {\n",
        "            \"role\": \"system\",\n",
        "            \"content\": \"You are an assistant that takes a piece of text that has been corrupted during OCR digitisation, and produce a corrected version of the same text. Dont add any comment, explanation or other. piece can contains informations from tables, figures ... MAKE IT READABLE, UNDERSTABLE AND CLEAR. WRITE IN MARKDOWN\"\n",
        "        },\n",
        "        {\n",
        "            \"role\": \"user\",\n",
        "            \"content\": query,\n",
        "        }\n",
        "    ]\n",
        "    chat_completion = client.chat.completions.create(\n",
        "        messages=messages,\n",
        "        model=model\n",
        "    )\n",
        "    return chat_completion.choices[0].message.content"
      ],
      "metadata": {
        "id": "hIGmRzaFbnNl"
      },
      "execution_count": null,
      "outputs": []
    },
    {
      "cell_type": "code",
      "source": [
        "user_query=\"\"\"5.Cash Flow Statement The cash flow from operating activities has improved by $12,234,560, driven primarily by increa The cash low rm operating aciis asimpod by se2s4,5o den primal y increase activities shows a substantial outflow of $50,345,890 due to major capital expenditures in upgrading the company's IT infrastructure. 6.Key Performance Indicators (KPls) Return on Equity (ROE): 22.38% Return on Assets (ROA): 13.58% Current Ratio:1.87 Quick Ratio:1.34 Debt-to-Equity Ratio:0.65 I.Tutuleoutiook The company anticipates continued growth in the upcoming fiscal year, targeting a 15% increase in. gross revenue. Strategic investments in Al-driven technologies are expected to yield a 20% improvement in operational efficiency, resulting in higher profit margins..\"\"\""
      ],
      "metadata": {
        "id": "1ph7d_IP3SYi"
      },
      "execution_count": null,
      "outputs": []
    },
    {
      "cell_type": "code",
      "source": [
        "response_content = get_chat_completion(user_query)\n"
      ],
      "metadata": {
        "id": "Culm9kbljxWV"
      },
      "execution_count": null,
      "outputs": []
    },
    {
      "cell_type": "code",
      "source": [
        "response_content"
      ],
      "metadata": {
        "colab": {
          "base_uri": "https://localhost:8080/",
          "height": 199
        },
        "id": "TzXgE7N6lICJ",
        "outputId": "5f726283-2abf-4427-c826-b3e1a65097cf"
      },
      "execution_count": null,
      "outputs": [
        {
          "output_type": "execute_result",
          "data": {
            "text/plain": [
              "\"### 5. Cash Flow Statement\\nThe cash flow from operating activities has improved by $12,234,560, driven primarily by increase. The cash flow from operating activities shows a substantial outflow of $50,345,890 due to major capital expenditures in upgrading the company's IT infrastructure.\\n\\n### 6. Key Performance Indicators (KPIs)\\n#### Return on Equity (ROE): 22.38%\\n#### Return on Assets (ROA): 13.58%\\n#### Current Ratio: 1.87\\n#### Quick Ratio: 1.34\\n#### Debt-to-Equity Ratio: 0.65\\n\\n### IT Outlook\\nThe company anticipates continued growth in the upcoming fiscal year, targeting a 15% increase in gross revenue. Strategic investments in AI-driven technologies are expected to yield a 20% improvement in operational efficiency, resulting in higher profit margins.\""
            ],
            "application/vnd.google.colaboratory.intrinsic+json": {
              "type": "string"
            }
          },
          "metadata": {},
          "execution_count": 53
        }
      ]
    },
    {
      "cell_type": "code",
      "source": [
        "from datasets import load_dataset\n",
        "\n",
        "data=load_dataset(\"vidore/shiftproject_test_ocr_chunk\",split='test')\n",
        "data"
      ],
      "metadata": {
        "id": "rlTMZtRDoal3"
      },
      "execution_count": null,
      "outputs": []
    },
    {
      "cell_type": "code",
      "source": [
        "data=data.select_columns(['image','text_description'])\n",
        "data[0]"
      ],
      "metadata": {
        "colab": {
          "base_uri": "https://localhost:8080/"
        },
        "id": "X3NnBn3qx0_S",
        "outputId": "101cfee6-2e84-4f61-d498-90b2946d6f3a"
      },
      "execution_count": null,
      "outputs": [
        {
          "output_type": "execute_result",
          "data": {
            "text/plain": [
              "Dataset({\n",
              "    features: ['image', 'text_description'],\n",
              "    num_rows: 2051\n",
              "})"
            ]
          },
          "metadata": {},
          "execution_count": 11
        }
      ]
    },
    {
      "cell_type": "code",
      "source": [
        "data[0]['image']"
      ],
      "metadata": {
        "colab": {
          "base_uri": "https://localhost:8080/"
        },
        "id": "rha_3xSl1yP6",
        "outputId": "abe800d2-1660-4aea-af4c-28aab700d840"
      },
      "execution_count": null,
      "outputs": [
        {
          "output_type": "execute_result",
          "data": {
            "text/plain": [
              "{'image': <PIL.JpegImagePlugin.JpegImageFile image mode=RGB size=1654x2339>,\n",
              " 'text_description': \"La taille moyenne des champs pétroliers découverts au Kazakhstan est en déclin depuis les années 1970.\\n\\nLa taille moyenne a augmenté légérement au cours des années 2000 de concert avec le nouveau cycle de découvertes lié aux champs offshore. Cependant, ces chiffres ont repris rapidement leur déclin rejoignant la tendance générale. Depuis 2007, seules deux années présentent une valeur supérieure a 25 millions de barils.\\n\\nIl. Historique de production\\n\\nLa production d’hydrocarbures liquides du Kazakhstan est en forte hausse depuis le début des années 1990. En 2019 elle représente 710 millions de barils (1,1 Mb/j). Cette production se trouvait depuis 1977 sur un plateau d’environ 150 millions de barils par an. La production d’hydrocarbures du Kazakhstan reste principalement située a terre (84 % en 2019). Une partie de cette production est issue depuis 2016 de champs se situant en eaux peu profondes (shelf), grace au lancement de la production du champ géant de Kashagan.\\n\\nProduction a terre et en mer d'hydrocarbures liquides au Kazakhstan (1965-2019)\\n\\n800 700 @ Shelf (to 125 meters) aD =} f=} Land Millions de barils par an N WwW r= w So fo} oO So o o lo} o b i=) S 0 1965 1975 1985 1995 2005 2015 Source : Rystad UCube 28 juin 2020\\n\\nRépartition de la production de pétrole brut et de liquides de gaz au Kazakhstan (1960-2019)\\n\\n800 700 mNGL ™ Condensate £00 Crude Oil wo fo} f=} Millions de barils par an w S fo] lo} So °o N is} fs) B ° fo} ie) 1960 1970 1980 1990 2000 2010 Source : Rystad UCube 28 juin 2020\\n\\nsunassiuino} sXed xnediouud sap uononpoid ap saajoadsiad Ja SaAJasal sap }e]9 : suUsadosny UOIUN,| ap INjNy Jaljoujad yUauauUOIsIAaIddy - Woddey\\n\\n130\"}"
            ]
          },
          "metadata": {},
          "execution_count": 12
        }
      ]
    },
    {
      "cell_type": "code",
      "source": [
        "!wget https://ds4sd-icdar23-doclaynet-competition.s3.eu-de.cloud-object-storage.appdomain.cloud/competition_dataset_groundtruth.zip\n",
        "!unzip /content/JPEG.zip"
      ],
      "metadata": {
        "id": "3lxFuSIdVVZV"
      },
      "execution_count": null,
      "outputs": []
    },
    {
      "cell_type": "code",
      "source": [
        "from paddleocr import PaddleOCR # Import the PaddleOCR class\n",
        "\n",
        "ocr = PaddleOCR(use_angle_cls=True, lang='en')"
      ],
      "metadata": {
        "id": "hAQ4V40vq4Y0",
        "colab": {
          "base_uri": "https://localhost:8080/"
        },
        "outputId": "65c178c2-c41a-43ec-91fe-780e678dc70f"
      },
      "execution_count": null,
      "outputs": [
        {
          "output_type": "stream",
          "name": "stdout",
          "text": [
            "download https://paddleocr.bj.bcebos.com/PP-OCRv3/english/en_PP-OCRv3_det_infer.tar to /root/.paddleocr/whl/det/en/en_PP-OCRv3_det_infer/en_PP-OCRv3_det_infer.tar\n"
          ]
        },
        {
          "output_type": "stream",
          "name": "stderr",
          "text": [
            "100%|██████████| 4.00M/4.00M [00:17<00:00, 235kiB/s] \n"
          ]
        },
        {
          "output_type": "stream",
          "name": "stdout",
          "text": [
            "download https://paddleocr.bj.bcebos.com/PP-OCRv4/english/en_PP-OCRv4_rec_infer.tar to /root/.paddleocr/whl/rec/en/en_PP-OCRv4_rec_infer/en_PP-OCRv4_rec_infer.tar\n"
          ]
        },
        {
          "output_type": "stream",
          "name": "stderr",
          "text": [
            "100%|██████████| 10.2M/10.2M [00:11<00:00, 915kiB/s] \n"
          ]
        },
        {
          "output_type": "stream",
          "name": "stdout",
          "text": [
            "download https://paddleocr.bj.bcebos.com/dygraph_v2.0/ch/ch_ppocr_mobile_v2.0_cls_infer.tar to /root/.paddleocr/whl/cls/ch_ppocr_mobile_v2.0_cls_infer/ch_ppocr_mobile_v2.0_cls_infer.tar\n"
          ]
        },
        {
          "output_type": "stream",
          "name": "stderr",
          "text": [
            "100%|██████████| 2.19M/2.19M [00:14<00:00, 147kiB/s]"
          ]
        },
        {
          "output_type": "stream",
          "name": "stdout",
          "text": [
            "[2024/08/06 15:43:54] ppocr DEBUG: Namespace(help='==SUPPRESS==', use_gpu=False, use_xpu=False, use_npu=False, use_mlu=False, ir_optim=True, use_tensorrt=False, min_subgraph_size=15, precision='fp32', gpu_mem=500, gpu_id=0, image_dir=None, page_num=0, det_algorithm='DB', det_model_dir='/root/.paddleocr/whl/det/en/en_PP-OCRv3_det_infer', det_limit_side_len=960, det_limit_type='max', det_box_type='quad', det_db_thresh=0.3, det_db_box_thresh=0.6, det_db_unclip_ratio=1.5, max_batch_size=10, use_dilation=False, det_db_score_mode='fast', det_east_score_thresh=0.8, det_east_cover_thresh=0.1, det_east_nms_thresh=0.2, det_sast_score_thresh=0.5, det_sast_nms_thresh=0.2, det_pse_thresh=0, det_pse_box_thresh=0.85, det_pse_min_area=16, det_pse_scale=1, scales=[8, 16, 32], alpha=1.0, beta=1.0, fourier_degree=5, rec_algorithm='SVTR_LCNet', rec_model_dir='/root/.paddleocr/whl/rec/en/en_PP-OCRv4_rec_infer', rec_image_inverse=True, rec_image_shape='3, 48, 320', rec_batch_num=6, max_text_length=25, rec_char_dict_path='/usr/local/lib/python3.10/dist-packages/paddleocr/ppocr/utils/en_dict.txt', use_space_char=True, vis_font_path='./doc/fonts/simfang.ttf', drop_score=0.5, e2e_algorithm='PGNet', e2e_model_dir=None, e2e_limit_side_len=768, e2e_limit_type='max', e2e_pgnet_score_thresh=0.5, e2e_char_dict_path='./ppocr/utils/ic15_dict.txt', e2e_pgnet_valid_set='totaltext', e2e_pgnet_mode='fast', use_angle_cls=True, cls_model_dir='/root/.paddleocr/whl/cls/ch_ppocr_mobile_v2.0_cls_infer', cls_image_shape='3, 48, 192', label_list=['0', '180'], cls_batch_num=6, cls_thresh=0.9, enable_mkldnn=False, cpu_threads=10, use_pdserving=False, warmup=False, sr_model_dir=None, sr_image_shape='3, 32, 128', sr_batch_num=1, draw_img_save_dir='./inference_results', save_crop_res=False, crop_res_save_dir='./output', use_mp=False, total_process_num=1, process_id=0, benchmark=False, save_log_path='./log_output/', show_log=True, use_onnx=False, return_word_box=False, output='./output', table_max_len=488, table_algorithm='TableAttn', table_model_dir=None, merge_no_span_structure=True, table_char_dict_path=None, layout_model_dir=None, layout_dict_path=None, layout_score_threshold=0.5, layout_nms_threshold=0.5, kie_algorithm='LayoutXLM', ser_model_dir=None, re_model_dir=None, use_visual_backbone=True, ser_dict_path='../train_data/XFUND/class_list_xfun.txt', ocr_order_method=None, mode='structure', image_orientation=False, layout=True, table=True, ocr=True, recovery=False, use_pdf2docx_api=False, invert=False, binarize=False, alphacolor=(255, 255, 255), lang='en', det=True, rec=True, type='ocr', savefile=False, ocr_version='PP-OCRv4', structure_version='PP-StructureV2')\n"
          ]
        },
        {
          "output_type": "stream",
          "name": "stderr",
          "text": [
            "\n"
          ]
        }
      ]
    },
    {
      "cell_type": "code",
      "source": [
        "import numpy as np\n",
        "def pil_to_np(pil_image):\n",
        "    # Convert PIL Image to NumPy Array\n",
        "    return np.array(pil_image)"
      ],
      "metadata": {
        "id": "bVBt52jm7VMa"
      },
      "execution_count": null,
      "outputs": []
    },
    {
      "cell_type": "code",
      "source": [
        "ds['validation']"
      ],
      "metadata": {
        "id": "NBnHOihC03ay"
      },
      "execution_count": null,
      "outputs": []
    },
    {
      "cell_type": "code",
      "source": [
        "test_datasets=ds['test']\n",
        "test_datasets"
      ],
      "metadata": {
        "id": "G048LmBZ3tTa"
      },
      "execution_count": null,
      "outputs": []
    },
    {
      "cell_type": "code",
      "source": [
        "valid_datasets=ds['validation']\n",
        "valid_datasets"
      ],
      "metadata": {
        "id": "mQO2uNGX3Kw2"
      },
      "execution_count": null,
      "outputs": []
    },
    {
      "cell_type": "code",
      "source": [
        "slice_params = {\n",
        "    'horizontal_stride': 300,  # Horizontal stride for sliding window\n",
        "    'vertical_stride': 500,    # Vertical stride for sliding window\n",
        "    'merge_x_thres': 50,       # Threshold for merging slices horizontally\n",
        "    'merge_y_thres': 35        # Threshold for merging slices vertically\n",
        "}"
      ],
      "metadata": {
        "id": "rvqRXtQGBjXT"
      },
      "execution_count": null,
      "outputs": []
    },
    {
      "cell_type": "code",
      "source": [
        "from paddleocr import PaddleOCR\n",
        "from memory_profiler import profile\n",
        "\n",
        "@profile\n",
        "def ocr_pipeline(img_path):\n",
        "  if isinstance(img_path,str):\n",
        "    img_path=img_path\n",
        "  else:\n",
        "      img_path=pil_to_np(img_path)\n",
        "  result=ocr.ocr(img_path, cls=True,det=True,slice=slice_params)\n",
        "  for idx in range(len(result)):\n",
        "    res = result[idx]\n",
        "    txts = [line[1][0] for line in res]\n",
        "    final=\" \".join(txts)\n",
        "    print(\" \".join(txts))\n",
        "    return final\n"
      ],
      "metadata": {
        "id": "P3tC-7UKqeD1"
      },
      "execution_count": null,
      "outputs": []
    },
    {
      "cell_type": "code",
      "source": [
        "ocr_text=ocr_pipeline(\"/content/pose3.jpeg\")\n",
        "ocr_text"
      ],
      "metadata": {
        "id": "Al5F1uVC61e5",
        "colab": {
          "base_uri": "https://localhost:8080/",
          "height": 310
        },
        "outputId": "685082a1-d994-4637-af54-72850ca1170a"
      },
      "execution_count": null,
      "outputs": [
        {
          "output_type": "stream",
          "name": "stdout",
          "text": [
            "ERROR: Could not find file <ipython-input-8-4fa9bb6a2b82>\n",
            "NOTE: %mprun can only be used on functions defined in physical files, and not in the IPython environment.\n",
            "[2024/08/06 17:50:33] ppocr DEBUG: dt_boxes num : 15, elapsed : 0.2941744327545166\n",
            "[2024/08/06 17:50:33] ppocr DEBUG: cls num  : 15, elapsed : 0.06325984001159668\n",
            "[2024/08/06 17:50:35] ppocr DEBUG: rec_res num  : 15, elapsed : 2.2539145946502686\n",
            "5.Cash Flow Statement The cash flow from operating activities has improved by $12,234,560, driven primarily by increa The cash low rm operating aciis asimpod by se2s4,5o den primal y increase activities shows a substantial outflow of $50,345,890 due to major capital expenditures in upgrading the company's IT infrastructure. 6.Key Performance Indicators (KPls) Return on Equity (ROE): 22.38% Return on Assets (ROA): 13.58% Current Ratio:1.87 Quick Ratio:1.34 Debt-to-Equity Ratio:0.65 I.Tutuleoutiook The company anticipates continued growth in the upcoming fiscal year, targeting a 15% increase in. gross revenue. Strategic investments in Al-driven technologies are expected to yield a 20% improvement in operational efficiency, resulting in higher profit margins..\n"
          ]
        },
        {
          "output_type": "execute_result",
          "data": {
            "text/plain": [
              "\"5.Cash Flow Statement The cash flow from operating activities has improved by $12,234,560, driven primarily by increa The cash low rm operating aciis asimpod by se2s4,5o den primal y increase activities shows a substantial outflow of $50,345,890 due to major capital expenditures in upgrading the company's IT infrastructure. 6.Key Performance Indicators (KPls) Return on Equity (ROE): 22.38% Return on Assets (ROA): 13.58% Current Ratio:1.87 Quick Ratio:1.34 Debt-to-Equity Ratio:0.65 I.Tutuleoutiook The company anticipates continued growth in the upcoming fiscal year, targeting a 15% increase in. gross revenue. Strategic investments in Al-driven technologies are expected to yield a 20% improvement in operational efficiency, resulting in higher profit margins..\""
            ],
            "application/vnd.google.colaboratory.intrinsic+json": {
              "type": "string"
            }
          },
          "metadata": {},
          "execution_count": 54
        }
      ]
    },
    {
      "cell_type": "code",
      "source": [
        "ocr_text"
      ],
      "metadata": {
        "id": "_oYofBulJUDG",
        "colab": {
          "base_uri": "https://localhost:8080/",
          "height": 181
        },
        "outputId": "3cc394b9-6ff1-4d70-8fa5-497a28dfb365"
      },
      "execution_count": null,
      "outputs": [
        {
          "output_type": "execute_result",
          "data": {
            "text/plain": [
              "\"5.Cash Flow Statement The cash flow from operating activities has improved by $12,234,560, driven primarily by increa The cash low rm operating aciis asimpod by se2s4,5o den primal y increase activities shows a substantial outflow of $50,345,890 due to major capital expenditures in upgrading the company's IT infrastructure. 6.Key Performance Indicators (KPls) Return on Equity (ROE): 22.38% Return on Assets (ROA): 13.58% Current Ratio:1.87 Quick Ratio:1.34 Debt-to-Equity Ratio:0.65 I.Tutuleoutiook The company anticipates continued growth in the upcoming fiscal year, targeting a 15% increase in. gross revenue. Strategic investments in Al-driven technologies are expected to yield a 20% improvement in operational efficiency, resulting in higher profit margins..\""
            ],
            "application/vnd.google.colaboratory.intrinsic+json": {
              "type": "string"
            }
          },
          "metadata": {},
          "execution_count": 50
        }
      ]
    },
    {
      "cell_type": "code",
      "source": [
        "!pip install editdistance\n",
        "!pip install jiwer"
      ],
      "metadata": {
        "colab": {
          "base_uri": "https://localhost:8080/"
        },
        "id": "s1k0XheH5_yS",
        "outputId": "cbaa6bbe-a9c3-4854-f115-f363f7f0f3b9"
      },
      "execution_count": null,
      "outputs": [
        {
          "output_type": "stream",
          "name": "stdout",
          "text": [
            "Requirement already satisfied: editdistance in /usr/local/lib/python3.10/dist-packages (0.8.1)\n",
            "Collecting jiwer\n",
            "  Downloading jiwer-3.0.4-py3-none-any.whl.metadata (2.6 kB)\n",
            "Requirement already satisfied: click<9.0.0,>=8.1.3 in /usr/local/lib/python3.10/dist-packages (from jiwer) (8.1.7)\n",
            "Requirement already satisfied: rapidfuzz<4,>=3 in /usr/local/lib/python3.10/dist-packages (from jiwer) (3.9.5)\n",
            "Downloading jiwer-3.0.4-py3-none-any.whl (21 kB)\n",
            "Installing collected packages: jiwer\n",
            "Successfully installed jiwer-3.0.4\n"
          ]
        }
      ]
    },
    {
      "cell_type": "code",
      "source": [
        "import editdistance\n",
        "from jiwer import wer\n",
        "\n",
        "def calculate_metrics(true_text, ocr_text, ocr_llm_text):\n",
        "    # Calculate Character Error Rate (CER)\n",
        "    cer_ocr = editdistance.eval(ocr_text, true_text) / len(true_text)\n",
        "    cer_ocr_llm = editdistance.eval(ocr_llm_text, true_text) / len(true_text)\n",
        "\n",
        "    # Calculate Word Error Rate (WER)\n",
        "    wer_ocr = wer(true_text, ocr_text)\n",
        "    wer_ocr_llm = wer(true_text, ocr_llm_text)\n",
        "\n",
        "    # Calculate Levenshtein Distance\n",
        "    lev_ocr = editdistance.eval(ocr_text, true_text)\n",
        "    lev_ocr_llm = editdistance.eval(ocr_llm_text, true_text)\n",
        "\n",
        "    return {\n",
        "        \"CER_OCR\": cer_ocr,\n",
        "        \"CER_OCR_LLM\": cer_ocr_llm,\n",
        "        \"WER_OCR\": wer_ocr,\n",
        "        \"WER_OCR_LLM\": wer_ocr_llm,\n",
        "        \"Levenshtein_OCR\": lev_ocr,\n",
        "        \"Levenshtein_OCR_LLM\": lev_ocr_llm\n",
        "    }\n"
      ],
      "metadata": {
        "id": "g0yEWmCJFgLJ"
      },
      "execution_count": null,
      "outputs": []
    },
    {
      "cell_type": "code",
      "source": [
        "\n",
        "# Example usage:\n",
        "true_text = \"This is the correct text.\"\n",
        "ocr_llm_text = \"This is the correct txt.\"\n",
        "\n",
        "metrics = calculate_metrics(true_text, ocr_text, ocr_llm_text)\n",
        "print(metrics)\n"
      ],
      "metadata": {
        "colab": {
          "base_uri": "https://localhost:8080/"
        },
        "id": "8OVx23JoIMVm",
        "outputId": "ad2fbffe-b88d-4006-aa3d-a7595c7b9fd3"
      },
      "execution_count": null,
      "outputs": [
        {
          "output_type": "stream",
          "name": "stdout",
          "text": [
            "{'CER_OCR': 0.08, 'CER_OCR_LLM': 0.04, 'WER_OCR': 0.4, 'WER_OCR_LLM': 0.2, 'Levenshtein_OCR': 2, 'Levenshtein_OCR_LLM': 1}\n"
          ]
        }
      ]
    },
    {
      "cell_type": "code",
      "source": [],
      "metadata": {
        "id": "fpv_3aT7LBsk"
      },
      "execution_count": null,
      "outputs": []
    },
    {
      "cell_type": "markdown",
      "source": [
        "# Flask deploiement"
      ],
      "metadata": {
        "id": "QlMEZED-4AYv"
      }
    },
    {
      "cell_type": "code",
      "source": [
        "from flask import Flask, request, jsonify\n",
        "from paddleocr import PaddleOCR\n",
        "from PIL import Image\n",
        "import numpy as np\n",
        "import io\n",
        "\n",
        "app = Flask(__name__)"
      ],
      "metadata": {
        "id": "oRzG1TdB3_OD"
      },
      "execution_count": null,
      "outputs": []
    },
    {
      "cell_type": "code",
      "source": [
        "slice_params = {\n",
        "    'horizontal_stride': 300,  # Horizontal stride for sliding window\n",
        "    'vertical_stride': 500,    # Vertical stride for sliding window\n",
        "    'merge_x_thres': 50,       # Threshold for merging slices horizontally\n",
        "    'merge_y_thres': 35        # Threshold for merging slices vertically\n",
        "}\n",
        "# cut an image in multiple pieces , add ocr to"
      ],
      "metadata": {
        "id": "ndmEmqyw8Dh8"
      },
      "execution_count": null,
      "outputs": []
    },
    {
      "cell_type": "code",
      "source": [
        "\n",
        "\n",
        "ocr = PaddleOCR(use_angle_cls=True, lang='en')\n",
        "slice_params = {'horizontal_stride': 300, 'vertical_stride': 500, 'merge_x_thres': 50, 'merge_y_thres': 35}\n",
        "\n",
        "def pil_to_np(img):\n",
        "    return np.array(img)\n",
        "\n",
        "@app.route('/ocr', methods=['POST'])\n",
        "def ocr_pipeline():\n",
        "    try:\n",
        "        if 'image' not in request.files:\n",
        "            return jsonify({'error': 'No image file provided'}), 400\n",
        "\n",
        "        img_file = request.files['image']\n",
        "        img = Image.open(img_file.stream)\n",
        "        img_np = pil_to_np(img)\n",
        "        result = ocr.ocr(img_np, cls=True, det=True, slice=slice_params)\n",
        "        all_texts = []\n",
        "        for res in result:\n",
        "            txts = [line[1][0] for line in res]\n",
        "            all_texts.append(\" \".join(txts))\n",
        "\n",
        "        final_text = \" \".join(all_texts)\n",
        "\n",
        "        return jsonify({'text': final_text}), 200\n",
        "\n",
        "    except Exception as e:\n",
        "        return jsonify({'error': str(e)}), 500\n",
        "\n",
        "\n"
      ],
      "metadata": {
        "id": "jycche1l4TU3"
      },
      "execution_count": null,
      "outputs": []
    },
    {
      "cell_type": "code",
      "source": [
        "if __name__ == '__main__':\n",
        "    app.run(host='0.0.0.0', port=8000)"
      ],
      "metadata": {
        "id": "rmiQ7NaL4inP"
      },
      "execution_count": null,
      "outputs": []
    }
  ]
}