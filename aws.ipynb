{
  "nbformat": 4,
  "nbformat_minor": 0,
  "metadata": {
    "colab": {
      "provenance": [],
      "mount_file_id": "1-NP7dquM1nHKQvfhFxJ6OZfWB_O83Ji9",
      "authorship_tag": "ABX9TyMJEACQw+fvpdBIGm9ZMan0",
      "include_colab_link": true
    },
    "kernelspec": {
      "name": "python3",
      "display_name": "Python 3"
    },
    "language_info": {
      "name": "python"
    }
  },
  "cells": [
    {
      "cell_type": "markdown",
      "metadata": {
        "id": "view-in-github",
        "colab_type": "text"
      },
      "source": [
        "<a href=\"https://colab.research.google.com/github/jeaneigsi/Humain-/blob/main/aws.ipynb\" target=\"_parent\"><img src=\"https://colab.research.google.com/assets/colab-badge.svg\" alt=\"Open In Colab\"/></a>"
      ]
    },
    {
      "cell_type": "code",
      "execution_count": null,
      "metadata": {
        "id": "uYRbrDy2cnwP"
      },
      "outputs": [],
      "source": [
        "!pip install fastapi uvicorn\n",
        "!pip install mangum"
      ]
    },
    {
      "cell_type": "code",
      "source": [
        "from fastapi import FastAPI\n",
        "from mangum import Mangum\n",
        "\n",
        "app=FastAPI()\n",
        "handler=Mangum(app)\n",
        "\n",
        "@app.get(\"/\")\n",
        "def hello_world():\n",
        "  return {\"message\": \"All thing is good ! Your server is running\"}\n",
        "\n",
        "\n"
      ],
      "metadata": {
        "id": "legqPVjN5Ta8"
      },
      "execution_count": null,
      "outputs": []
    },
    {
      "cell_type": "code",
      "source": [
        "@app.post"
      ],
      "metadata": {
        "id": "gWRpkKKF8qRp"
      },
      "execution_count": null,
      "outputs": []
    },
    {
      "cell_type": "code",
      "source": [
        "# Integrating OpenAI’s Assistant API\n",
        "\n",
        "OPENAI_API_KEY=<your_api_key_here> #can be found in the openai playground\n"
      ],
      "metadata": {
        "id": "CyepKiN19MJL"
      },
      "execution_count": null,
      "outputs": []
    },
    {
      "cell_type": "code",
      "source": [
        "npm install -g serverless\n",
        "serverless config credentials --provider aws --key <YOUR_KEY> --secret <YOUR_SECRET_KEY>\n"
      ],
      "metadata": {
        "id": "neKLSZ0E7JNm"
      },
      "execution_count": null,
      "outputs": []
    },
    {
      "cell_type": "code",
      "source": [
        "service: AgentGPT\n",
        "\n",
        "package:\n",
        "  individually: true\n",
        "\n",
        "provider:\n",
        "  name: aws\n",
        "  runtime: python3.8\n",
        "  region: eu-west-1\n",
        "  stage: ${opt:stage, \"dev\"}\n",
        "\n",
        "plugins:\n",
        "  - serverless-python-requirements\n",
        "\n",
        "custom:\n",
        "  pythonRequirements:\n",
        "    dockerizePip: true\n",
        "    layer:\n",
        "      name: AgentGPT-layer\n",
        "      description: AgentGPT layer\n",
        "      compatibleRuntimes:\n",
        "        - python3.8\n",
        "\n",
        "functions:\n",
        "  app:\n",
        "    package:\n",
        "      include:\n",
        "        - \"main.py\" # name of file that contains APP\n",
        "      exclude:\n",
        "        - \"requirements.txt\"\n",
        "        - \"package.json\"\n",
        "        - \"package-lock.json\"\n",
        "        - \".serverless/**\"\n",
        "        - \".virtualenv/**\"\n",
        "        - \"node_modules/**\"\n",
        "\n",
        "    handler: main.handler\n",
        "    environment:\n",
        "      STAGE: ${self:provider.stage}\n",
        "    layers:\n",
        "      - { Ref: PythonRequirementsLambdaLayer }\n",
        "    events:\n",
        "      - http:\n",
        "          method: any\n",
        "          path: /{proxy+}"
      ],
      "metadata": {
        "id": "pZcMzWNp7P-W"
      },
      "execution_count": null,
      "outputs": []
    },
    {
      "cell_type": "code",
      "source": [
        "{\n",
        "    \"name\": \"AgentGPT\",\n",
        "    \"version\": \"1.0.0\",\n",
        "    \"author\": \"Olivier\",\n",
        "    \"dependencies\": {\n",
        "        \"serverless-python-requirements\": \"^5.0.1\"\n",
        "    }\n",
        "}"
      ],
      "metadata": {
        "id": "gJmT3qcu72MV"
      },
      "execution_count": null,
      "outputs": []
    },
    {
      "cell_type": "code",
      "source": [
        "npm install\n",
        "sls deploy --stage staging # \"stage\" indicates which stage you are deploying. It could be anything.\n"
      ],
      "metadata": {
        "id": "I89IY-GE8Dly"
      },
      "execution_count": null,
      "outputs": []
    },
    {
      "cell_type": "code",
      "source": [
        "sls deploy --stage staging #update deployments\n",
        "sls remove --stage staging  #delete app"
      ],
      "metadata": {
        "id": "3S_8EKFe8VTT"
      },
      "execution_count": null,
      "outputs": []
    }
  ]
}