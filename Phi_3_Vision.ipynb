{
  "nbformat": 4,
  "nbformat_minor": 0,
  "metadata": {
    "colab": {
      "provenance": [],
      "authorship_tag": "ABX9TyP1+1Whw69Ec18FFy7y7Gfg",
      "include_colab_link": true
    },
    "kernelspec": {
      "name": "python3",
      "display_name": "Python 3"
    },
    "language_info": {
      "name": "python"
    }
  },
  "cells": [
    {
      "cell_type": "markdown",
      "metadata": {
        "id": "view-in-github",
        "colab_type": "text"
      },
      "source": [
        "<a href=\"https://colab.research.google.com/github/jeaneigsi/Humain-/blob/main/Phi_3_Vision.ipynb\" target=\"_parent\"><img src=\"https://colab.research.google.com/assets/colab-badge.svg\" alt=\"Open In Colab\"/></a>"
      ]
    },
    {
      "cell_type": "markdown",
      "source": [
        "# Technical report Phi-3 Vilion Microsoft\n",
        "\n",
        "## Summury\n",
        "\n",
        "1. Description of modele  \n",
        "2. Configurations and settings  \n",
        "3. Installation  \n",
        "4. Test and metrics   \n",
        "Full Cpu  \n",
        "Mix\n",
        "5. Resources/materials for **deployment**  \n",
        "Conclusion\n",
        "\n",
        "[Markdown syntax](https://www.markdownguide.org/basic-syntax/)"
      ],
      "metadata": {
        "id": "Vol-2CPKrAel"
      }
    },
    {
      "cell_type": "markdown",
      "source": [
        "1. Description of modele"
      ],
      "metadata": {
        "id": "ADX_Wx3Ju-tR"
      }
    },
    {
      "cell_type": "code",
      "execution_count": null,
      "metadata": {
        "id": "DRzPmymWqyA_"
      },
      "outputs": [],
      "source": []
    },
    {
      "cell_type": "markdown",
      "source": [
        "2. Configurations and settings"
      ],
      "metadata": {
        "id": "PtKpxgJTxBPe"
      }
    },
    {
      "cell_type": "code",
      "source": [],
      "metadata": {
        "id": "VAs_j24TxFt8"
      },
      "execution_count": null,
      "outputs": []
    },
    {
      "cell_type": "markdown",
      "source": [
        "\n",
        "3. Installation\n"
      ],
      "metadata": {
        "id": "N7CJuyQDxGQ3"
      }
    },
    {
      "cell_type": "code",
      "source": [],
      "metadata": {
        "id": "hlmVUAtJxM1E"
      },
      "execution_count": null,
      "outputs": []
    },
    {
      "cell_type": "markdown",
      "source": [
        "4. Test and metrics"
      ],
      "metadata": {
        "id": "9iRjcjEUxNIY"
      }
    },
    {
      "cell_type": "markdown",
      "source": [
        "A. Full Cpu"
      ],
      "metadata": {
        "id": "UwkkC_F2zW_z"
      }
    },
    {
      "cell_type": "code",
      "source": [],
      "metadata": {
        "id": "76jElAIFxSh5"
      },
      "execution_count": null,
      "outputs": []
    },
    {
      "cell_type": "markdown",
      "source": [
        "5. Resources/materials for deployment\n"
      ],
      "metadata": {
        "id": "mHCPF0ZKxTDE"
      }
    }
  ]
}