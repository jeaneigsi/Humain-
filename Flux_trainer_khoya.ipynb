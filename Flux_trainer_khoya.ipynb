{
  "nbformat": 4,
  "nbformat_minor": 0,
  "metadata": {
    "colab": {
      "provenance": [],
      "authorship_tag": "ABX9TyMgJag3PIOcDy7grnkh9y0q",
      "include_colab_link": true
    },
    "kernelspec": {
      "name": "python3",
      "display_name": "Python 3"
    },
    "language_info": {
      "name": "python"
    }
  },
  "cells": [
    {
      "cell_type": "markdown",
      "metadata": {
        "id": "view-in-github",
        "colab_type": "text"
      },
      "source": [
        "<a href=\"https://colab.research.google.com/github/jeaneigsi/Humain-/blob/main/Flux_trainer_khoya.ipynb\" target=\"_parent\"><img src=\"https://colab.research.google.com/assets/colab-badge.svg\" alt=\"Open In Colab\"/></a>"
      ]
    },
    {
      "cell_type": "code",
      "execution_count": null,
      "metadata": {
        "id": "xyZ6Pz6Lsht0"
      },
      "outputs": [],
      "source": [
        "!git clone -b sd3 https://github.com/kohya-ss/sd-scripts.git\n",
        "%cd sd-scripts\n",
        "!pip install torch==2.4.0 torchvision==0.19.0 --index-url https://download.pytorch.org/whl/cu124\n",
        "!pip install -r requirements.txt"
      ]
    },
    {
      "cell_type": "code",
      "source": [
        "!mkdir -p ./sd3/  && wget -o  ./sd3/clip_l.safetensors  https://huggingface.co/camenduru/FLUX.1-dev/resolve/main/clip_l.safetensors\n",
        "!wget https://huggingface.co/camenduru/FLUX.1-dev/resolve/main/flux1-dev.sft\n",
        "!wget -o  .sd3/t5xxl_fp16.safetensors  https://huggingface.co/camenduru/FLUX.1-dev/resolve/main/t5xxl_fp16.safetensors\n",
        "!wget https://huggingface.co/camenduru/FLUX.1-dev/resolve/main/ae.sft"
      ],
      "metadata": {
        "colab": {
          "base_uri": "https://localhost:8080/"
        },
        "id": "oXNdpoNQvx4D",
        "outputId": "8ecd9c72-c737-4713-8b15-339101ccd394"
      },
      "execution_count": 2,
      "outputs": [
        {
          "output_type": "stream",
          "name": "stdout",
          "text": [
            "--2024-08-26 13:04:59--  https://huggingface.co/camenduru/FLUX.1-dev/resolve/main/flux1-dev.sft\n",
            "Resolving huggingface.co (huggingface.co)... 13.35.7.57, 13.35.7.38, 13.35.7.81, ...\n",
            "Connecting to huggingface.co (huggingface.co)|13.35.7.57|:443... connected.\n",
            "HTTP request sent, awaiting response... 302 Found\n",
            "Location: https://cdn-lfs-us-1.huggingface.co/repos/2d/6c/2d6cde08f0ddbdceafbcce501fdc08ef2283be0fcd41e4159060967c30c68d8f/4610115bb0c89560703c892c59ac2742fa821e60ef5871b33493ba544683abd7?response-content-disposition=inline%3B+filename*%3DUTF-8%27%27flux1-dev.sft%3B+filename%3D%22flux1-dev.sft%22%3B&Expires=1724936699&Policy=eyJTdGF0ZW1lbnQiOlt7IkNvbmRpdGlvbiI6eyJEYXRlTGVzc1RoYW4iOnsiQVdTOkVwb2NoVGltZSI6MTcyNDkzNjY5OX19LCJSZXNvdXJjZSI6Imh0dHBzOi8vY2RuLWxmcy11cy0xLmh1Z2dpbmdmYWNlLmNvL3JlcG9zLzJkLzZjLzJkNmNkZTA4ZjBkZGJkY2VhZmJjY2U1MDFmZGMwOGVmMjI4M2JlMGZjZDQxZTQxNTkwNjA5NjdjMzBjNjhkOGYvNDYxMDExNWJiMGM4OTU2MDcwM2M4OTJjNTlhYzI3NDJmYTgyMWU2MGVmNTg3MWIzMzQ5M2JhNTQ0NjgzYWJkNz9yZXNwb25zZS1jb250ZW50LWRpc3Bvc2l0aW9uPSoifV19&Signature=J6ahYbboIk0YNCz7%7EFjQldUXJy8HfqNNA6pIFWMgFJDmM4uj-zvbn8lsO3j7KuMzojzWBaHwiXrFPDIl7oHJdi34x4RVkMjKc-25QiZzHIuspT%7EI8N3YNYoH0SeItLpscy-mQB3jWwqMWI2KN9TeMJX%7EGlfzaIK2t3Sbf-NqpA5M3Z%7EEldvc7kwxwAtsrZ2gJtrT5m%7ECcSs3-tRRvEpXLZha0eGVqWdJpKDxuboWds39uydfCzhE5zTIZQb5ThiSSMgc1bEw48k5W3wNFz0MZ-DQPStxMnP4x1mOqcWVoLiirEaw1MLRxvjqeB1AxD2ijMV5HRtGLCHEDDCozATETg__&Key-Pair-Id=K24J24Z295AEI9 [following]\n",
            "--2024-08-26 13:04:59--  https://cdn-lfs-us-1.huggingface.co/repos/2d/6c/2d6cde08f0ddbdceafbcce501fdc08ef2283be0fcd41e4159060967c30c68d8f/4610115bb0c89560703c892c59ac2742fa821e60ef5871b33493ba544683abd7?response-content-disposition=inline%3B+filename*%3DUTF-8%27%27flux1-dev.sft%3B+filename%3D%22flux1-dev.sft%22%3B&Expires=1724936699&Policy=eyJTdGF0ZW1lbnQiOlt7IkNvbmRpdGlvbiI6eyJEYXRlTGVzc1RoYW4iOnsiQVdTOkVwb2NoVGltZSI6MTcyNDkzNjY5OX19LCJSZXNvdXJjZSI6Imh0dHBzOi8vY2RuLWxmcy11cy0xLmh1Z2dpbmdmYWNlLmNvL3JlcG9zLzJkLzZjLzJkNmNkZTA4ZjBkZGJkY2VhZmJjY2U1MDFmZGMwOGVmMjI4M2JlMGZjZDQxZTQxNTkwNjA5NjdjMzBjNjhkOGYvNDYxMDExNWJiMGM4OTU2MDcwM2M4OTJjNTlhYzI3NDJmYTgyMWU2MGVmNTg3MWIzMzQ5M2JhNTQ0NjgzYWJkNz9yZXNwb25zZS1jb250ZW50LWRpc3Bvc2l0aW9uPSoifV19&Signature=J6ahYbboIk0YNCz7%7EFjQldUXJy8HfqNNA6pIFWMgFJDmM4uj-zvbn8lsO3j7KuMzojzWBaHwiXrFPDIl7oHJdi34x4RVkMjKc-25QiZzHIuspT%7EI8N3YNYoH0SeItLpscy-mQB3jWwqMWI2KN9TeMJX%7EGlfzaIK2t3Sbf-NqpA5M3Z%7EEldvc7kwxwAtsrZ2gJtrT5m%7ECcSs3-tRRvEpXLZha0eGVqWdJpKDxuboWds39uydfCzhE5zTIZQb5ThiSSMgc1bEw48k5W3wNFz0MZ-DQPStxMnP4x1mOqcWVoLiirEaw1MLRxvjqeB1AxD2ijMV5HRtGLCHEDDCozATETg__&Key-Pair-Id=K24J24Z295AEI9\n",
            "Resolving cdn-lfs-us-1.huggingface.co (cdn-lfs-us-1.huggingface.co)... 13.35.35.125, 13.35.35.109, 13.35.35.21, ...\n",
            "Connecting to cdn-lfs-us-1.huggingface.co (cdn-lfs-us-1.huggingface.co)|13.35.35.125|:443... connected.\n",
            "HTTP request sent, awaiting response... 200 OK\n",
            "Length: 23802932552 (22G) [binary/octet-stream]\n",
            "Saving to: ‘flux1-dev.sft’\n",
            "\n",
            "flux1-dev.sft       100%[===================>]  22.17G  25.4MB/s    in 15m 2s  \n",
            "\n",
            "2024-08-26 13:20:02 (25.2 MB/s) - ‘flux1-dev.sft’ saved [23802932552/23802932552]\n",
            "\n",
            "wget: .sd3/t5xxl_fp16.safetensors: No such file or directory\n",
            "--2024-08-26 13:20:02--  https://huggingface.co/camenduru/FLUX.1-dev/resolve/main/ae.sft\n",
            "Resolving huggingface.co (huggingface.co)... 13.35.7.57, 13.35.7.38, 13.35.7.81, ...\n",
            "Connecting to huggingface.co (huggingface.co)|13.35.7.57|:443... connected.\n",
            "HTTP request sent, awaiting response... 302 Found\n",
            "Location: https://cdn-lfs-us-1.huggingface.co/repos/2d/6c/2d6cde08f0ddbdceafbcce501fdc08ef2283be0fcd41e4159060967c30c68d8f/afc8e28272cd15db3919bacdb6918ce9c1ed22e96cb12c4d5ed0fba823529e38?response-content-disposition=inline%3B+filename*%3DUTF-8%27%27ae.sft%3B+filename%3D%22ae.sft%22%3B&Expires=1724937602&Policy=eyJTdGF0ZW1lbnQiOlt7IkNvbmRpdGlvbiI6eyJEYXRlTGVzc1RoYW4iOnsiQVdTOkVwb2NoVGltZSI6MTcyNDkzNzYwMn19LCJSZXNvdXJjZSI6Imh0dHBzOi8vY2RuLWxmcy11cy0xLmh1Z2dpbmdmYWNlLmNvL3JlcG9zLzJkLzZjLzJkNmNkZTA4ZjBkZGJkY2VhZmJjY2U1MDFmZGMwOGVmMjI4M2JlMGZjZDQxZTQxNTkwNjA5NjdjMzBjNjhkOGYvYWZjOGUyODI3MmNkMTVkYjM5MTliYWNkYjY5MThjZTljMWVkMjJlOTZjYjEyYzRkNWVkMGZiYTgyMzUyOWUzOD9yZXNwb25zZS1jb250ZW50LWRpc3Bvc2l0aW9uPSoifV19&Signature=hC3v3%7EEhaJmmO8jWYH9Z%7EBBKhMBRjOMQRjXsgYAhxO4dWPeDNmQCv7v%7EG19J3iJYpTE4l4Gt8thBOcLWM2RXY4hDUIFGYcPdHPgoRH7NrZXnySMP9nOhzjap7v3u-yQ6tSH9tETfXXqUXGJwl%7Egy5rAth8psa%7EDRuUHBoKunWIchH937aigDT1wABKxYf2Am-C5xYG7-rG7YZ6khoJxtfIVnOixlFz2LNmCC%7Ex1bXGjml6OLMPnGGPdWhT9Vc7AefcxqADJtzvcuvMPq0aiGWT4RDIob-gFGA-7o1m5Wq5guBxkqGtaUN1kkcZlzSdW9QyN1tdiD0fO4VNkoiZ4trw__&Key-Pair-Id=K24J24Z295AEI9 [following]\n",
            "--2024-08-26 13:20:02--  https://cdn-lfs-us-1.huggingface.co/repos/2d/6c/2d6cde08f0ddbdceafbcce501fdc08ef2283be0fcd41e4159060967c30c68d8f/afc8e28272cd15db3919bacdb6918ce9c1ed22e96cb12c4d5ed0fba823529e38?response-content-disposition=inline%3B+filename*%3DUTF-8%27%27ae.sft%3B+filename%3D%22ae.sft%22%3B&Expires=1724937602&Policy=eyJTdGF0ZW1lbnQiOlt7IkNvbmRpdGlvbiI6eyJEYXRlTGVzc1RoYW4iOnsiQVdTOkVwb2NoVGltZSI6MTcyNDkzNzYwMn19LCJSZXNvdXJjZSI6Imh0dHBzOi8vY2RuLWxmcy11cy0xLmh1Z2dpbmdmYWNlLmNvL3JlcG9zLzJkLzZjLzJkNmNkZTA4ZjBkZGJkY2VhZmJjY2U1MDFmZGMwOGVmMjI4M2JlMGZjZDQxZTQxNTkwNjA5NjdjMzBjNjhkOGYvYWZjOGUyODI3MmNkMTVkYjM5MTliYWNkYjY5MThjZTljMWVkMjJlOTZjYjEyYzRkNWVkMGZiYTgyMzUyOWUzOD9yZXNwb25zZS1jb250ZW50LWRpc3Bvc2l0aW9uPSoifV19&Signature=hC3v3%7EEhaJmmO8jWYH9Z%7EBBKhMBRjOMQRjXsgYAhxO4dWPeDNmQCv7v%7EG19J3iJYpTE4l4Gt8thBOcLWM2RXY4hDUIFGYcPdHPgoRH7NrZXnySMP9nOhzjap7v3u-yQ6tSH9tETfXXqUXGJwl%7Egy5rAth8psa%7EDRuUHBoKunWIchH937aigDT1wABKxYf2Am-C5xYG7-rG7YZ6khoJxtfIVnOixlFz2LNmCC%7Ex1bXGjml6OLMPnGGPdWhT9Vc7AefcxqADJtzvcuvMPq0aiGWT4RDIob-gFGA-7o1m5Wq5guBxkqGtaUN1kkcZlzSdW9QyN1tdiD0fO4VNkoiZ4trw__&Key-Pair-Id=K24J24Z295AEI9\n",
            "Resolving cdn-lfs-us-1.huggingface.co (cdn-lfs-us-1.huggingface.co)... 13.35.35.109, 13.35.35.21, 13.35.35.125, ...\n",
            "Connecting to cdn-lfs-us-1.huggingface.co (cdn-lfs-us-1.huggingface.co)|13.35.35.109|:443... connected.\n",
            "HTTP request sent, awaiting response... 200 OK\n",
            "Length: 335304388 (320M) [binary/octet-stream]\n",
            "Saving to: ‘ae.sft’\n",
            "\n",
            "ae.sft              100%[===================>] 319.77M  25.2MB/s    in 13s     \n",
            "\n",
            "2024-08-26 13:20:15 (24.2 MB/s) - ‘ae.sft’ saved [335304388/335304388]\n",
            "\n"
          ]
        }
      ]
    },
    {
      "cell_type": "code",
      "source": [
        "!mkdir -p ./dataset_1024_bs2.toml"
      ],
      "metadata": {
        "id": "ngDnqf6uyZ7R"
      },
      "execution_count": 3,
      "outputs": []
    },
    {
      "cell_type": "code",
      "source": [
        "!accelerate launch --mixed_precision bf16 --num_cpu_threads_per_process 1 flux_train_network.py --pretrained_model_name_or_path flux1-dev.sft --clip_l sd3/clip_l.safetensors --t5xxl sd3/t5xxl_fp16.safetensors --ae ae.sft --cache_latents_to_disk --save_model_as safetensors --sdpa --persistent_data_loader_workers --max_data_loader_n_workers 2 --seed 42 --gradient_checkpointing --mixed_precision bf16 --save_precision bf16 --network_module networks.lora_flux --network_dim 4 --optimizer_type adafactor --optimizer_args \"relative_step=False\" \"scale_parameter=False\" \"warmup_init=False\" --network_train_unet_only --cache_text_encoder_outputs --cache_text_encoder_outputs_to_disk --fp8_base --highvram --max_train_epochs 4 --save_every_n_epochs 1 --dataset_config dataset_1024_bs2.toml --output_dir ./ --output_name flux-lora-name --timestep_sampling sigmoid --model_prediction_type raw --guidance_scale 1.0 --loss_type l2 --split_mode --network_args \"train_blocks=single\"\n",
        ""
      ],
      "metadata": {
        "id": "FdjeILxvssAg"
      },
      "execution_count": null,
      "outputs": []
    }
  ]
}